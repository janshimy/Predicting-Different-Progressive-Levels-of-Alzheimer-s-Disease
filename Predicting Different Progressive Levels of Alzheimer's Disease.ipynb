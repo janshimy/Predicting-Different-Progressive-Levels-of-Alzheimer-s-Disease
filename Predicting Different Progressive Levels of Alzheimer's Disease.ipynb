{
 "cells": [
  {
   "cell_type": "markdown",
   "metadata": {},
   "source": [
    "# Predicting Different Progressive Levels of Alzheimer's Disease\n",
    "\n",
    "This project was carried out within the scope of UpSchool by Eda AYDIN.\n",
    "\n",
    "## Table of Contents\n",
    "\n",
    "- [A. Business Understanding - Project Objective](#a-business-understanding---project-objective)\n",
    "- [B. Data Understanding](#b-data-understanding)\n",
    "- [C. Data Analysis](#c-data-analysis)\n",
    "- [D. Feature Engineering](#d-feature-engineering)\n",
    "- [E. Modeling](#e-modeling)\n",
    "- [F. Evaluation](#f-evaluation)"
   ]
  },
  {
   "cell_type": "markdown",
   "metadata": {},
   "source": [
    "## A. Business Understanding  - Project Objective\n",
    "\n",
    "This is an optional model development project on a real dataset related to predicting the different progressive levels of Alzheimer's disease (AD). The students are expected to use tensorflow library for modeling process and will be asked to submit the predicted labels for a test dataset by which their score will be evaluated objectively. \n",
    "\n",
    "In this project, you are supposed to provide a data science model to determine the level of Alzheimer disease. The levels are the ordinal categories from lower to higher respectively: 0, 0.25, 0.50, 1.0, 2.0, 3.0 (that are the progressive levels of Alzheimer's disease) \n",
    "\n",
    "You are expected to use the following features:\n",
    "[\"EDUC\",\"NACCMOCA\",\"MARISTAT\",\"NACCFAM\",\"NACCGDS\",\"NACCNE4S\",\"NACCAPOE\", \"INDEPEND\",\"RESIDENC\",\"ANYMEDS\",\"NACCAMD\",\"DEL\",\"HALL\",\"DEPD\",\"ANX\",\"APA\",\"DISN\", \"IRR\",\"MOT\",\"AGIT\",\"ELAT\",\"NITE\",\"APP\",\"DROPACT\",\"NACCAGEB\",\"SEX\"]\n",
    "\n",
    "\n",
    "\n",
    "Your train dataset size should be 70%, validation dataset size 15% as well as the test size 15%. Your target metric will be F1 score. "
   ]
  },
  {
   "cell_type": "markdown",
   "metadata": {},
   "source": [
    "## B. Data Understanding"
   ]
  },
  {
   "cell_type": "markdown",
   "metadata": {},
   "source": [
    "### B.1 Data Short Information"
   ]
  },
  {
   "cell_type": "markdown",
   "metadata": {},
   "source": [
    "\n",
    "| Index | Variable Name | Section                                             | Detail Section | Variable type         | Data type               | Short Descriptor                                                  | Data Source | Allowable codes                                                                                                                                                                                                                                                                                              | Missing Codes | Description / derivation                                                                                                                                                                                                                                                                                                                                                                                                                                                                                                                                                                                                                                                                                                                                                                                                                                                                                                                                                                                                                                                                                                                                                                                                                                                                                                                                                                                                                                                                                                                                                                                                                                                                                                                                                                                                                                                                                                                                                                                                                                                                                                                                                                                                                                        |\n",
    "| ----- | ------------- | --------------------------------------------------- | -------------- | --------------------- | ----------------------- | ----------------------------------------------------------------- | ----------- | ------------------------------------------------------------------------------------------------------------------------------------------------------------------------------------------------------------------------------------------------------------------------------------------------------------ | ------------- | --------------------------------------------------------------------------------------------------------------------------------------------------------------------------------------------------------------------------------------------------------------------------------------------------------------------------------------------------------------------------------------------------------------------------------------------------------------------------------------------------------------------------------------------------------------------------------------------------------------------------------------------------------------------------------------------------------------------------------------------------------------------------------------------------------------------------------------------------------------------------------------------------------------------------------------------------------------------------------------------------------------------------------------------------------------------------------------------------------------------------------------------------------------------------------------------------------------------------------------------------------------------------------------------------------------------------------------------------------------------------------------------------------------------------------------------------------------------------------------------------------------------------------------------------------------------------------------------------------------------------------------------------------------------------------------------------------------------------------------------------------------------------------------------------------------------------------------------------------------------------------------------------------------------------------------------------------------------------------------------------------------------------------------------------------------------------------------------------------------------------------------------------------------------------------------------------------------------------------------------------------------- |\n",
    "| 1     | SEX           | A1 - Subject Demographics                           |                | Original UDS question | Numeric cross-sectional | Subject's sex                                                     | rdd         | 1 = Male<br>2 = Female                                                                                                                                                                                                                                                                                       |               |                                                                                                                                                                                                                                                                                                                                                                                                                                                                                                                                                                                                                                                                                                                                                                                                                                                                                                                                                                                                                                                                                                                                                                                                                                                                                                                                                                                                                                                                                                                                                                                                                                                                                                                                                                                                                                                                                                                                                                                                                                                                                                                                                                                                                                                                 |\n",
    "| 2     | EDUC          | A1 - Subject Demographics                           |                | Original UDS question | Numeric cross-sectional | Years of education                                                | rdd         | 0 - 36<br>99 = Unknown                                                                                                                                                                                                                                                                                       |               | In general,<br>12 = high school or GRE,<br>16 = bachelor's degree,<br>18 = master's degree,<br>20 = doctorate.<br>Note that although this variable is not collected at follow-up visits, the value from the initial visit will be shown at all follow-up visits.                                                                                                                                                                                                                                                                                                                                                                                                                                                                                                                                                                                                                                                                                                                                                                                                                                                                                                                                                                                                                                                                                                                                                                                                                                                                                                                                                                                                                                                                                                                                                                                                                                                                                                                                                                                                                                                                                                                                                                                                |\n",
    "| 3     | MARISTAT      | A1 - Subject Demographics                           |                | Original UDS question | Numeric longitudinal    | Marital Status                                                    | rdd         | 1 = Married<br>2 = Widowed<br>3 = Divorced<br>4 = Separated<br>5 = Never married (for marriage was annulled)<br>6 = Living as married/domestic partner<br>8 = Other or unknown                                                                                                                               |               | Note that in v1– 2 there was an option for “other” status. These have been recoded to maristat = 9.                                                                                                                                                                                                                                                                                                                                                                                                                                                                                                                                                                                                                                                                                                                                                                                                                                                                                                                                                                                                                                                                                                                                                                                                                                                                                                                                                                                                                                                                                                                                                                                                                                                                                                                                                                                                                                                                                                                                                                                                                                                                                                                                                             |\n",
    "| 4     | INDEPEND      | A1 - Subject Demographics                           |                | Original UDS question | Numeric longitudinal    | Level of independence                                             | rdd         | 1 = Able to live independently<br>2 = Requires some assistance with complex activities<br>3 = Requires some assistance with basic activities<br>4 = Completely dependent<br>9 = Unknown                                                                                                                      |               |                                                                                                                                                                                                                                                                                                                                                                                                                                                                                                                                                                                                                                                                                                                                                                                                                                                                                                                                                                                                                                                                                                                                                                                                                                                                                                                                                                                                                                                                                                                                                                                                                                                                                                                                                                                                                                                                                                                                                                                                                                                                                                                                                                                                                                                                 |\n",
    "| 5     | RESIDENC      | A1 - Subject Demographics                           |                | Original UDS question | Numeric longitudinal    | Type of residence                                                 | rdd         | 1 = Single- or multi-family private residence<br>(apartment, condo, house)<br>2 = Retirement community or independent group living<br>3 = Assisted living, adult family home, or boarding home<br>4 = Skilled nursing facility, nursing home, hospital, or hospice<br>9 = Other or unknown                   |               | Note that in v1– 2 there was an option for “other” type of residence. These have been recoded to residenc = 9.                                                                                                                                                                                                                                                                                                                                                                                                                                                                                                                                                                                                                                                                                                                                                                                                                                                                                                                                                                                                                                                                                                                                                                                                                                                                                                                                                                                                                                                                                                                                                                                                                                                                                                                                                                                                                                                                                                                                                                                                                                                                                                                                                  |\n",
    "| 6     | NACCAGEB      | A1 - Subject Demographics                           |                | NACC derived variable | Numeric cross-sectional | Subject's age at initial visit                                    | rdd         | 18 - 120                                                                                                                                                                                                                                                                                                     |               | Birth month and year are required elements in the UDS; however, birth day is not collected. To calculate naccageb, birth day is set to 1 for all subjects. Baseline age is then computed as initial visit date minus birth date. Note that although this variable is listed for all visits, it does not change across visits; it is cross-sectional.                                                                                                                                                                                                                                                                                                                                                                                                                                                                                                                                                                                                                                                                                                                                                                                                                                                                                                                                                                                                                                                                                                                                                                                                                                                                                                                                                                                                                                                                                                                                                                                                                                                                                                                                                                                                                                                                                                            |\n",
    "| 7     | NACCFAM       | A3 - Subject Family History                         |                | NACC derived variable | Numeric cross-sectional | Indicator of first-degree family member with cognitive impairment | rdd         | 0 = No report of a first-degree family member with cognitive impairment<br>1 = Report of at least one first-degree family member with cognitive impairment<br>9 = Unknown<br>\\-4 = Not available: UDS form submitted did not collect data in this way, or a skip pattern precludes response to this question |               | UDS Form A3 version 1 – 2, submitted at all available visits: Subjects reporting at least one parent, sibling, or child with dementia at any visit will have naccfam = 1. Subjects who report no first-degree family members with dementia at all visits where Form A3 is submitted will have naccfam = 0.<br>UDS Form A3 version 3.0 or subsequent versions, submitted at all available visits: If at least one parent, sibling, or child is reported to have both a primary neurological problem/psychiatric condition of cognitive impairment/behavior change (coded as 1) and one of the primary diagnosis codes listed below at any visit, then naccfam = 1. Subjects who report all first-degree family members as having a family history absent of cognitive impairment/psychiatric condition (primary neurological problem/psychiatric condition coded as 2–8) or a primary neurological problem/psychiatric condition is reported (coded as 1), but a code other than those listed below is reported, will have naccfam = 0.<br>For subjects with Form A3 data from multiple form versions, all available data will be included in the calculation of naccfam. For example, if a family history of cognitive impairment is indicated on Form A3 using v3.0 but not on a previous version using v1–2, the subject will still have naccfam = 1.<br>Those with a submitted Form A3 (any version) who are missing data on all first-degree family members are coded as Unknown (naccfam = 9). If some first-degree family members are coded as No and some are coded as Unknown, then they are all coded as Unknown (naccfam = 9).<br>In general, a known history of cognitive impairment reported at any visit supersedes all visits with missing codes. Likewise, an indication of cognitive impairment at any visit supersedes all other visits where a history of cognitive impairment is indicated as not present. In all other conditions where reporting varies, data from the most recent visit are used to calculate naccfam.<br>If Form A3 was never submitted for any version of the UDS, naccfam will take a value of -4. Note that although this variable is listed for all visits, it does not change across visits; it is cross-sectional. |\n",
    "| 8     | ANYMEDS       | A4 - Subject Medications                            |                | Original UDS question | Numeric longitudinal    | Subject taking any medications                                    | rdd         | 0 = No<br>1 = Yes<br>\\-4 = Did not complete medications form                                                                                                                                                                                                                                                 |               | If the medications form was not completed, then anymeds = - 4.                                                                                                                                                                                                                                                                                                                                                                                                                                                                                                                                                                                                                                                                                                                                                                                                                                                                                                                                                                                                                                                                                                                                                                                                                                                                                                                                                                                                                                                                                                                                                                                                                                                                                                                                                                                                                                                                                                                                                                                                                                                                                                                                                                                                  |\n",
    "| 9     | NACCAMD       | A4 - Subject Medications                            |                | NACC derived variable | Numeric longitudinal    | Total number of medications reported at each visit                | rdd         | 0 - 40<br>\\-4 = Did not complete medications form                                                                                                                                                                                                                                                            |               | This variable provides the total number of medications reported at a visit including all prescription and over the counter medications reported on UDS Form A4 at a single visit. If the medications form was not completed, then naccamd = -4.                                                                                                                                                                                                                                                                                                                                                                                                                                                                                                                                                                                                                                                                                                                                                                                                                                                                                                                                                                                                                                                                                                                                                                                                                                                                                                                                                                                                                                                                                                                                                                                                                                                                                                                                                                                                                                                                                                                                                                                                                 |\n",
    "| 10    | CDRGLOB       | B4 CDR® Plus NACC FTLD                              |                | Original UDS question | Numeric longitudinal    | Global CDR®                                                       | rdd         | 0.0 = No impairment<br>0.5 = Questionable impairment 1.0 = Mild impairment<br>2.0 = Moderate impairment<br>3.0 = Severe impairment                                                                                                                                                                           |               |                                                                                                                                                                                                                                                                                                                                                                                                                                                                                                                                                                                                                                                                                                                                                                                                                                                                                                                                                                                                                                                                                                                                                                                                                                                                                                                                                                                                                                                                                                                                                                                                                                                                                                                                                                                                                                                                                                                                                                                                                                                                                                                                                                                                                                                                 |\n",
    "| 11    | DEL           | B5 Neuropsychiatric Inventory Questionnaire (NPI-Q) |                | Original UDS question | Numeric longitudinal    | Delusions in the last month                                       | rdd         | 0 = No<br>1 = Yes<br>9 = Unkown<br>\\- 4 = Not available: UDS form submitted did not collect data in this way, or a skip pattern precludes response to this question<br>                                                                                                                                      |               | An option of Unknown (del=9) was added to UDS v3.0 and subsequent versions. Also note that the wording in v3.0 and subsequent versions changed to be consistent with the way the NPI-Q was originally intended to be completed; the wording changes are not expected to affect the essential meaning of the question.                                                                                                                                                                                                                                                                                                                                                                                                                                                                                                                                                                                                                                                                                                                                                                                                                                                                                                                                                                                                                                                                                                                                                                                                                                                                                                                                                                                                                                                                                                                                                                                                                                                                                                                                                                                                                                                                                                                                           |\n",
    "| 12    | HALL          | B5 Neuropsychiatric Inventory Questionnaire (NPI-Q) |                | Original UDS question | Numeric longitudinal    | Hallucinations in the last month                                  | rdd         | 0 = No<br>1 = Yes<br>9 = Unkown<br>\\- 4 = Not available: UDS form submitted did not collect data in this way, or a skip pattern precludes response to this question<br>                                                                                                                                      |               | An option of Unknown (hall = 9) was added to UDS v3.0 and subsequent versions. Also note that the wording in v3.0 and subsequent versions changed to be consistent with the way the NPI-Q was originally intended to be completed; the wording changes are not expected to affect the essential meaning of the question.                                                                                                                                                                                                                                                                                                                                                                                                                                                                                                                                                                                                                                                                                                                                                                                                                                                                                                                                                                                                                                                                                                                                                                                                                                                                                                                                                                                                                                                                                                                                                                                                                                                                                                                                                                                                                                                                                                                                        |\n",
    "| 13    | AGIT          | B5 Neuropsychiatric Inventory Questionnaire (NPI-Q) |                | Original UDS question | Numeric longitudinal    | Agitation or aggression in the last month                         | rdd         | 0 = No<br>1 = Yes<br>9 = Unkown<br>\\- 4 = Not available: UDS form submitted did not collect data in this way, or a skip pattern precludes response to this question<br>                                                                                                                                      |               | An option of Unknown (agit = 9) was added to UDS v3.0 and subsequent versions. Also note that the wording in v3.0 and subsequent versions changed to be consistent with the way the NPI-Q was originally intended to be completed; the wording changes are not expected to affect the essential meaning of the question.                                                                                                                                                                                                                                                                                                                                                                                                                                                                                                                                                                                                                                                                                                                                                                                                                                                                                                                                                                                                                                                                                                                                                                                                                                                                                                                                                                                                                                                                                                                                                                                                                                                                                                                                                                                                                                                                                                                                        |\n",
    "| 14    | DEPD          | B5 Neuropsychiatric Inventory Questionnaire (NPI-Q) |                | Original UDS question | Numeric longitudinal    | Depression or dysphoria in the last month                         | rdd         | 0 = No<br>1 = Yes<br>9 = Unkown<br>\\- 4 = Not available: UDS form submitted did not collect data in this way, or a skip pattern precludes response to this question<br>                                                                                                                                      |               | An option of Unknown (depd = 9) was added to UDS v3.0 and subsequent versions. Also note that the wording in v3.0 and subsequent versions changed to be consistent with the way the NPI-Q was originally intended to be completed; the wording changes are not expected to affect the essential meaning of the question.                                                                                                                                                                                                                                                                                                                                                                                                                                                                                                                                                                                                                                                                                                                                                                                                                                                                                                                                                                                                                                                                                                                                                                                                                                                                                                                                                                                                                                                                                                                                                                                                                                                                                                                                                                                                                                                                                                                                        |\n",
    "| 15    | ANX           | B5 Neuropsychiatric Inventory Questionnaire (NPI-Q) |                | Original UDS question | Numeric longitudinal    | Anxiety in the last month                                         | rdd         | 0 = No<br>1 = Yes<br>9 = Unkown<br>\\- 4 = Not available: UDS form submitted did not collect data in this way, or a skip pattern precludes response to this question<br>                                                                                                                                      |               | An option of Unknown (anx = 9) was added to UDS v3.0 and subsequent versions. Also note that the wording in v3.0 and subsequent versions changed to be consistent with the way the NPI-Q was originally intended to be completed; the wording changes are not expected to affect the essential meaning of the question.                                                                                                                                                                                                                                                                                                                                                                                                                                                                                                                                                                                                                                                                                                                                                                                                                                                                                                                                                                                                                                                                                                                                                                                                                                                                                                                                                                                                                                                                                                                                                                                                                                                                                                                                                                                                                                                                                                                                         |\n",
    "| 16    | ELAT          | B5 Neuropsychiatric Inventory Questionnaire (NPI-Q) |                | Original UDS question | Numeric longitudinal    | Elation or euphoria in the last month                             | rdd         | 0 = No<br>1 = Yes<br>9 = Unkown<br>\\- 4 = Not available: UDS form submitted did not collect data in this way, or a skip pattern precludes response to this question<br>                                                                                                                                      |               | An option of Unknown (elat = 9) was added to UDS v3.0 and subsequent versions. Also note that the wording in v3.0 and subsequent versions changed to be consistent with the way the NPI-Q was originally intended to be completed; the wording changes are not expected to affect the essential meaning of the question.                                                                                                                                                                                                                                                                                                                                                                                                                                                                                                                                                                                                                                                                                                                                                                                                                                                                                                                                                                                                                                                                                                                                                                                                                                                                                                                                                                                                                                                                                                                                                                                                                                                                                                                                                                                                                                                                                                                                        |\n",
    "| 17    | APA           | B5 Neuropsychiatric Inventory Questionnaire (NPI-Q) |                | Original UDS question | Numeric longitudinal    | Apathy or indifference in the last month                          | rdd         | 0 = No<br>1 = Yes<br>9 = Unkown<br>\\- 4 = Not available: UDS form submitted did not collect data in this way, or a skip pattern precludes response to this question<br>                                                                                                                                      |               | An option of Unknown (apa = 9) was added to UDS v3.0 and subsequent versions. Also note that the wording in v3.0 and subsequent versions changed to be consistent with the way the NPI-Q was originally intended to be completed; the wording changes are not expected to affect the essential meaning of the question.                                                                                                                                                                                                                                                                                                                                                                                                                                                                                                                                                                                                                                                                                                                                                                                                                                                                                                                                                                                                                                                                                                                                                                                                                                                                                                                                                                                                                                                                                                                                                                                                                                                                                                                                                                                                                                                                                                                                         |\n",
    "| 18    | DISN          | B5 Neuropsychiatric Inventory Questionnaire (NPI-Q) |                | Original UDS question | Numeric longitudinal    | Disinhibition in the last month                                   | rdd         | 0 = No<br>1 = Yes<br>9 = Unkown<br>\\- 4 = Not available: UDS form submitted did not collect data in this way, or a skip pattern precludes response to this question<br>                                                                                                                                      |               | An option of Unknown (disn = 9) was added to UDS v3.0 and subsequent versions. Also note that the wording in v3.0 and subsequent versions changed to be consistent with the way the NPI-Q was originally intended to be completed; the wording changes are not expected to affect the essential meaning of the question.                                                                                                                                                                                                                                                                                                                                                                                                                                                                                                                                                                                                                                                                                                                                                                                                                                                                                                                                                                                                                                                                                                                                                                                                                                                                                                                                                                                                                                                                                                                                                                                                                                                                                                                                                                                                                                                                                                                                        |\n",
    "| 19    | IRR           | B5 Neuropsychiatric Inventory Questionnaire (NPI-Q) |                | Original UDS question | Numeric longitudinal    | Irritability or lability in the last month                        | rdd         | 0 = No<br>1 = Yes<br>9 = Unkown<br>\\- 4 = Not available: UDS form submitted did not collect data in this way, or a skip pattern precludes response to this question<br>                                                                                                                                      |               | An option of Unknown (irr = 9) was added to UDS v3.0 and subsequent versions. Also note that the wording in v3.0 and subsequent versions changed to be consistent with the way the NPI-Q was originally intended to be completed; the wording changes are not expected to affect the essential meaning of the question.                                                                                                                                                                                                                                                                                                                                                                                                                                                                                                                                                                                                                                                                                                                                                                                                                                                                                                                                                                                                                                                                                                                                                                                                                                                                                                                                                                                                                                                                                                                                                                                                                                                                                                                                                                                                                                                                                                                                         |\n",
    "| 20    | MOT           | B5 Neuropsychiatric Inventory Questionnaire (NPI-Q) |                | Original UDS question | Numeric longitudinal    | Motor disturbance in the last month                               | rdd         | 0 = No<br>1 = Yes<br>9 = Unkown<br>\\- 4 = Not available: UDS form submitted did not collect data in this way, or a skip pattern precludes response to this question<br>                                                                                                                                      |               | An option of Unknown (mot = 9) was added to UDS v3.0 and subsequent versions. Also note that the wording in v3.0 and subsequent versions changed to be consistent with the way the NPI-Q was originally intended to be completed; the wording changes are not expected to affect the essential meaning of the question.                                                                                                                                                                                                                                                                                                                                                                                                                                                                                                                                                                                                                                                                                                                                                                                                                                                                                                                                                                                                                                                                                                                                                                                                                                                                                                                                                                                                                                                                                                                                                                                                                                                                                                                                                                                                                                                                                                                                         |\n",
    "| 21    | NITE          | B5 Neuropsychiatric Inventory Questionnaire (NPI-Q) |                | Original UDS question | Numeric longitudinal    | Nighttime behaviors in the last month                             | rdd         | 0 = No<br>1 = Yes<br>9 = Unkown<br>\\- 4 = Not available: UDS form submitted did not collect data in this way, or a skip pattern precludes response to this question<br>                                                                                                                                      |               | An option of Unknown (nite = 9) was added to UDS v3.0 and subsequent versions. Also note that the wording in v3.0 and subsequent versions changed to be consistent with the way the NPI-Q was originally intended to be completed; the wording changes are not expected to affect the essential meaning of the question.                                                                                                                                                                                                                                                                                                                                                                                                                                                                                                                                                                                                                                                                                                                                                                                                                                                                                                                                                                                                                                                                                                                                                                                                                                                                                                                                                                                                                                                                                                                                                                                                                                                                                                                                                                                                                                                                                                                                        |\n",
    "| 22    | APP           | B5 Neuropsychiatric Inventory Questionnaire (NPI-Q) |                | Original UDS question | Numeric longitudinal    | Appetite and eating problems in the last month                    | rdd         | 0 = No<br>1 = Yes<br>9 = Unkown<br>\\- 4 = Not available: UDS form submitted did not collect data in this way, or a skip pattern precludes response to this question<br>                                                                                                                                      |               | An option of Unknown (app = 9) was added to UDS v3.0 and subsequent versions. Also note that the wording in v3.0 and subsequent versions changed to be consistent with the way the NPI-Q was originally intended to be completed; the wording changes are not expected to affect the essential meaning of the question.                                                                                                                                                                                                                                                                                                                                                                                                                                                                                                                                                                                                                                                                                                                                                                                                                                                                                                                                                                                                                                                                                                                                                                                                                                                                                                                                                                                                                                                                                                                                                                                                                                                                                                                                                                                                                                                                                                                                         |\n",
    "| 23    | NACCGDS       | B6 Geriatric Depression Scale (GDS)                 |                | NACC derived variable | Numeric longitudinal    | Total GDS Score                                                   | rdd         | 0 - 15<br>88 = Could not be calculated<br>\\- 4 = Not available: UDS form submitted did not collect data in this way, or a skip pattern precludes response to this question                                                                                                                                   |               | In earlier versions of the UDS, Centers were not given instructions on how to calculate the total GDS score if three or fewer GDS items were missing. NACC has created a new derived variable for Total GDS score so that subjects who were given the GDS in the earlier versions of UDS v1 will have a total GDS score if they skipped three or fewer items on the questionnaire. If the subject was missing more than three of the 15 items on the GDS for any UDS version, naccgds = 88. The UDS Coding Guidebook for Form B6 provides the algorithm for calculating the GDS score when three or fewer items are missing.                                                                                                                                                                                                                                                                                                                                                                                                                                                                                                                                                                                                                                                                                                                                                                                                                                                                                                                                                                                                                                                                                                                                                                                                                                                                                                                                                                                                                                                                                                                                                                                                                                    |\n",
    "| 24    | DROPACT       | B6 Geriatric Depression Scale (GDS)                 |                | Original UDS question | Numeric longitudinal    | Have you dropped many of your activities and interests?           | rdd         | 0 = No<br>1 = Yes<br>9 = Did not answer<br>\\- 4 = Not available: UDS form submitted did not collect data in this way, or a skip pattern precludes response to this question<br>                                                                                                                              |               | Note that an option of 9 = Did not answer was added to UDS v3.0 and subsequent versions.                                                                                                                                                                                                                                                                                                                                                                                                                                                                                                                                                                                                                                                                                                                                                                                                                                                                                                                                                                                                                                                                                                                                                                                                                                                                                                                                                                                                                                                                                                                                                                                                                                                                                                                                                                                                                                                                                                                                                                                                                                                                                                                                                                        |\n",
    "| 25    | NACCAPOE      |                                                     |                | NACC derived variable | Numeric cross-sectional | APOE genotype                                                     | rdd-genetic | 1 = e3,e3<br>2 = e3,e4<br>3 = e3,e2<br>4 = e4,e4<br>5 = e4,e2<br>6 = e2,e2<br>9 = Missing/ unknown/ not assessed                                                                                                                                                                                             |               | APOE genotype is run independently by the ADC and reported to NACC on the NACC Neuropathology Form. APOE genotype is also reported by ADGC and NCRAD. In the rare case that the ADC-reported genotype and the genotype reported by ADGC are not the same, the genotype is set to 9 = Missing for that subject.                                                                                                                                                                                                                                                                                                                                                                                                                                                                                                                                                                                                                                                                                                                                                                                                                                                                                                                                                                                                                                                                                                                                                                                                                                                                                                                                                                                                                                                                                                                                                                                                                                                                                                                                                                                                                                                                                                                                                  |\n",
    "| 26    | NACCNE4S      |                                                     |                | NACC derived variable | Numeric cross-sectional | Number of APOE e4 alleles                                         | rdd-genetic | 0 = No e4 allele<br>1 = 1 copy of e4 allele<br>2 = 2 copies of e4 allele<br>9 = Missing/ unknown/ not assessed                                                                                                                                                                                               |               | APOE genotype is run independently by the ADC and reported to NACC on the NACC Neuropathology Form. APOE genotype is also reported by ADGC and NCRAD. In the rare case that the ADC-reported genotype and the genotype reported by ADGC are not the same, the genotype is set to 9 = Missing for that subject.                                                                                                                                                                                                                                                                                                                                                                                                                                                                                                                                                                                                                                                                                                                                                                                                                                                                                                                                                                                                                                                                                                                                                                                                                                                                                                                                                                                                                                                                                                                                                                                                                                                                                                                                                                                                                                                                                                                                                  |"
   ]
  },
  {
   "cell_type": "markdown",
   "metadata": {},
   "source": [
    "### B.2 Import Libraries"
   ]
  },
  {
   "cell_type": "code",
   "execution_count": 1,
   "metadata": {},
   "outputs": [],
   "source": [
    "import warnings\n",
    "warnings.filterwarnings(\"ignore\")"
   ]
  },
  {
   "cell_type": "code",
   "execution_count": 2,
   "metadata": {},
   "outputs": [],
   "source": [
    "import pandas as pd\n",
    "import numpy as np\n",
    "import seaborn as sns\n",
    "import matplotlib.pyplot as plt\n",
    "import matplotlib.ticker as ticker\n",
    "from imblearn.over_sampling import SMOTE # for oversampling\n",
    "from sklearn.preprocessing import LabelEncoder, MinMaxScaler\n",
    "from sklearn.linear_model import LogisticRegression\n",
    "from sklearn.ensemble import RandomForestClassifier\n",
    "from xgboost import XGBClassifier\n",
    "from lightgbm import LGBMClassifier\n",
    "from catboost import CatBoostClassifier\n",
    "from sklearn.neural_network import MLPClassifier\n",
    "from sklearn.model_selection import GridSearchCV\n",
    "from sklearn.metrics import classification_report, accuracy_score, f1_score"
   ]
  },
  {
   "cell_type": "code",
   "execution_count": 3,
   "metadata": {},
   "outputs": [
    {
     "name": "stdout",
     "output_type": "stream",
     "text": [
      "\n",
      "\u001b[1m[\u001b[0m\u001b[34;49mnotice\u001b[0m\u001b[1;39;49m]\u001b[0m\u001b[39;49m A new release of pip is available: \u001b[0m\u001b[31;49m21.1.1\u001b[0m\u001b[39;49m -> \u001b[0m\u001b[32;49m25.0.1\u001b[0m\n",
      "\u001b[1m[\u001b[0m\u001b[34;49mnotice\u001b[0m\u001b[1;39;49m]\u001b[0m\u001b[39;49m To update, run: \u001b[0m\u001b[32;49mpip install --upgrade pip\u001b[0m\n",
      "Note: you may need to restart the kernel to use updated packages.\n",
      "Requirement already satisfied: tensorflow-addons in /home/janvier/anaconda3/lib/python3.8/site-packages (0.21.0)\n",
      "Requirement already satisfied: packaging in /home/janvier/.local/lib/python3.8/site-packages (from tensorflow-addons) (20.9)\n",
      "Requirement already satisfied: typeguard<3.0.0,>=2.7 in /home/janvier/anaconda3/lib/python3.8/site-packages (from tensorflow-addons) (2.13.3)\n",
      "Requirement already satisfied: pyparsing>=2.0.2 in /home/janvier/.local/lib/python3.8/site-packages (from packaging->tensorflow-addons) (2.4.7)\n",
      "\n",
      "\u001b[1m[\u001b[0m\u001b[34;49mnotice\u001b[0m\u001b[1;39;49m]\u001b[0m\u001b[39;49m A new release of pip is available: \u001b[0m\u001b[31;49m21.1.1\u001b[0m\u001b[39;49m -> \u001b[0m\u001b[32;49m25.0.1\u001b[0m\n",
      "\u001b[1m[\u001b[0m\u001b[34;49mnotice\u001b[0m\u001b[1;39;49m]\u001b[0m\u001b[39;49m To update, run: \u001b[0m\u001b[32;49mpip install --upgrade pip\u001b[0m\n",
      "Note: you may need to restart the kernel to use updated packages.\n"
     ]
    }
   ],
   "source": [
    "%pip install fast_ml --quiet\n",
    "%pip install -U tensorflow-addons"
   ]
  },
  {
   "cell_type": "code",
   "execution_count": 6,
   "metadata": {
    "scrolled": false
   },
   "outputs": [
    {
     "ename": "ImportError",
     "evalue": "cannot import name 'get_config' from 'tensorflow.python.eager.context' (/home/janvier/anaconda3/lib/python3.8/site-packages/tensorflow/python/eager/context.py)",
     "output_type": "error",
     "traceback": [
      "\u001b[0;31m---------------------------------------------------------------------------\u001b[0m",
      "\u001b[0;31mImportError\u001b[0m                               Traceback (most recent call last)",
      "\u001b[0;32m<ipython-input-6-3249a4b83a6f>\u001b[0m in \u001b[0;36m<module>\u001b[0;34m\u001b[0m\n\u001b[1;32m      1\u001b[0m \u001b[0;32mfrom\u001b[0m \u001b[0mfast_ml\u001b[0m\u001b[0;34m.\u001b[0m\u001b[0mmodel_development\u001b[0m \u001b[0;32mimport\u001b[0m \u001b[0mtrain_valid_test_split\u001b[0m\u001b[0;34m\u001b[0m\u001b[0;34m\u001b[0m\u001b[0m\n\u001b[1;32m      2\u001b[0m \u001b[0;32mimport\u001b[0m \u001b[0mtensorflow\u001b[0m \u001b[0;32mas\u001b[0m \u001b[0mtf\u001b[0m\u001b[0;34m\u001b[0m\u001b[0;34m\u001b[0m\u001b[0m\n\u001b[0;32m----> 3\u001b[0;31m \u001b[0;32mimport\u001b[0m \u001b[0mtensorflow_addons\u001b[0m \u001b[0;32mas\u001b[0m \u001b[0mtfa\u001b[0m\u001b[0;34m\u001b[0m\u001b[0;34m\u001b[0m\u001b[0m\n\u001b[0m\u001b[1;32m      4\u001b[0m \u001b[0;32mfrom\u001b[0m \u001b[0mkeras\u001b[0m \u001b[0;32mimport\u001b[0m \u001b[0mbackend\u001b[0m \u001b[0;32mas\u001b[0m \u001b[0mK\u001b[0m\u001b[0;34m\u001b[0m\u001b[0;34m\u001b[0m\u001b[0m\n\u001b[1;32m      5\u001b[0m \u001b[0;32mfrom\u001b[0m \u001b[0mkeras\u001b[0m\u001b[0;34m.\u001b[0m\u001b[0mregularizers\u001b[0m \u001b[0;32mimport\u001b[0m  \u001b[0ml2\u001b[0m\u001b[0;34m\u001b[0m\u001b[0;34m\u001b[0m\u001b[0m\n",
      "\u001b[0;32m~/anaconda3/lib/python3.8/site-packages/tensorflow_addons/__init__.py\u001b[0m in \u001b[0;36m<module>\u001b[0;34m\u001b[0m\n\u001b[1;32m     27\u001b[0m \u001b[0;32mfrom\u001b[0m \u001b[0mtensorflow_addons\u001b[0m \u001b[0;32mimport\u001b[0m \u001b[0mlosses\u001b[0m\u001b[0;34m\u001b[0m\u001b[0;34m\u001b[0m\u001b[0m\n\u001b[1;32m     28\u001b[0m \u001b[0;32mfrom\u001b[0m \u001b[0mtensorflow_addons\u001b[0m \u001b[0;32mimport\u001b[0m \u001b[0mmetrics\u001b[0m\u001b[0;34m\u001b[0m\u001b[0;34m\u001b[0m\u001b[0m\n\u001b[0;32m---> 29\u001b[0;31m \u001b[0;32mfrom\u001b[0m \u001b[0mtensorflow_addons\u001b[0m \u001b[0;32mimport\u001b[0m \u001b[0moptimizers\u001b[0m\u001b[0;34m\u001b[0m\u001b[0;34m\u001b[0m\u001b[0m\n\u001b[0m\u001b[1;32m     30\u001b[0m \u001b[0;32mfrom\u001b[0m \u001b[0mtensorflow_addons\u001b[0m \u001b[0;32mimport\u001b[0m \u001b[0mrnn\u001b[0m\u001b[0;34m\u001b[0m\u001b[0;34m\u001b[0m\u001b[0m\n\u001b[1;32m     31\u001b[0m \u001b[0;32mfrom\u001b[0m \u001b[0mtensorflow_addons\u001b[0m \u001b[0;32mimport\u001b[0m \u001b[0mseq2seq\u001b[0m\u001b[0;34m\u001b[0m\u001b[0;34m\u001b[0m\u001b[0m\n",
      "\u001b[0;32m~/anaconda3/lib/python3.8/site-packages/tensorflow_addons/optimizers/__init__.py\u001b[0m in \u001b[0;36m<module>\u001b[0;34m\u001b[0m\n\u001b[1;32m     28\u001b[0m     \u001b[0mExponentialCyclicalLearningRate\u001b[0m\u001b[0;34m,\u001b[0m\u001b[0;34m\u001b[0m\u001b[0;34m\u001b[0m\u001b[0m\n\u001b[1;32m     29\u001b[0m )\n\u001b[0;32m---> 30\u001b[0;31m from tensorflow_addons.optimizers.discriminative_layer_training import (\n\u001b[0m\u001b[1;32m     31\u001b[0m     \u001b[0mMultiOptimizer\u001b[0m\u001b[0;34m,\u001b[0m\u001b[0;34m\u001b[0m\u001b[0;34m\u001b[0m\u001b[0m\n\u001b[1;32m     32\u001b[0m )\n",
      "\u001b[0;32m~/anaconda3/lib/python3.8/site-packages/tensorflow_addons/optimizers/discriminative_layer_training.py\u001b[0m in \u001b[0;36m<module>\u001b[0;34m\u001b[0m\n\u001b[1;32m     29\u001b[0m     \u001b[0;32mfrom\u001b[0m \u001b[0mkeras\u001b[0m\u001b[0;34m.\u001b[0m\u001b[0msrc\u001b[0m\u001b[0;34m.\u001b[0m\u001b[0mutils\u001b[0m \u001b[0;32mimport\u001b[0m \u001b[0mtf_utils\u001b[0m\u001b[0;34m\u001b[0m\u001b[0;34m\u001b[0m\u001b[0m\n\u001b[1;32m     30\u001b[0m \u001b[0;32melse\u001b[0m\u001b[0;34m:\u001b[0m\u001b[0;34m\u001b[0m\u001b[0;34m\u001b[0m\u001b[0m\n\u001b[0;32m---> 31\u001b[0;31m     \u001b[0;32mfrom\u001b[0m \u001b[0mkeras\u001b[0m \u001b[0;32mimport\u001b[0m \u001b[0mbackend\u001b[0m\u001b[0;34m\u001b[0m\u001b[0;34m\u001b[0m\u001b[0m\n\u001b[0m\u001b[1;32m     32\u001b[0m     \u001b[0;32mfrom\u001b[0m \u001b[0mkeras\u001b[0m\u001b[0;34m.\u001b[0m\u001b[0mutils\u001b[0m \u001b[0;32mimport\u001b[0m \u001b[0mtf_utils\u001b[0m\u001b[0;34m\u001b[0m\u001b[0;34m\u001b[0m\u001b[0m\n\u001b[1;32m     33\u001b[0m \u001b[0;34m\u001b[0m\u001b[0m\n",
      "\u001b[0;32m~/anaconda3/lib/python3.8/site-packages/keras/__init__.py\u001b[0m in \u001b[0;36m<module>\u001b[0;34m\u001b[0m\n\u001b[1;32m     23\u001b[0m \u001b[0;34m\u001b[0m\u001b[0m\n\u001b[1;32m     24\u001b[0m \u001b[0;31m# See b/110718070#comment18 for more details about this import.\u001b[0m\u001b[0;34m\u001b[0m\u001b[0;34m\u001b[0m\u001b[0;34m\u001b[0m\u001b[0m\n\u001b[0;32m---> 25\u001b[0;31m \u001b[0;32mfrom\u001b[0m \u001b[0mkeras\u001b[0m \u001b[0;32mimport\u001b[0m \u001b[0mmodels\u001b[0m\u001b[0;34m\u001b[0m\u001b[0;34m\u001b[0m\u001b[0m\n\u001b[0m\u001b[1;32m     26\u001b[0m \u001b[0;34m\u001b[0m\u001b[0m\n\u001b[1;32m     27\u001b[0m \u001b[0;32mfrom\u001b[0m \u001b[0mkeras\u001b[0m\u001b[0;34m.\u001b[0m\u001b[0mengine\u001b[0m\u001b[0;34m.\u001b[0m\u001b[0minput_layer\u001b[0m \u001b[0;32mimport\u001b[0m \u001b[0mInput\u001b[0m\u001b[0;34m\u001b[0m\u001b[0;34m\u001b[0m\u001b[0m\n",
      "\u001b[0;32m~/anaconda3/lib/python3.8/site-packages/keras/models.py\u001b[0m in \u001b[0;36m<module>\u001b[0;34m\u001b[0m\n\u001b[1;32m     17\u001b[0m \u001b[0;34m\u001b[0m\u001b[0m\n\u001b[1;32m     18\u001b[0m \u001b[0;32mimport\u001b[0m \u001b[0mtensorflow\u001b[0m\u001b[0;34m.\u001b[0m\u001b[0mcompat\u001b[0m\u001b[0;34m.\u001b[0m\u001b[0mv2\u001b[0m \u001b[0;32mas\u001b[0m \u001b[0mtf\u001b[0m\u001b[0;34m\u001b[0m\u001b[0;34m\u001b[0m\u001b[0m\n\u001b[0;32m---> 19\u001b[0;31m \u001b[0;32mfrom\u001b[0m \u001b[0mkeras\u001b[0m \u001b[0;32mimport\u001b[0m \u001b[0mbackend\u001b[0m\u001b[0;34m\u001b[0m\u001b[0;34m\u001b[0m\u001b[0m\n\u001b[0m\u001b[1;32m     20\u001b[0m \u001b[0;32mfrom\u001b[0m \u001b[0mkeras\u001b[0m \u001b[0;32mimport\u001b[0m \u001b[0mmetrics\u001b[0m \u001b[0;32mas\u001b[0m \u001b[0mmetrics_module\u001b[0m\u001b[0;34m\u001b[0m\u001b[0;34m\u001b[0m\u001b[0m\n\u001b[1;32m     21\u001b[0m \u001b[0;32mfrom\u001b[0m \u001b[0mkeras\u001b[0m \u001b[0;32mimport\u001b[0m \u001b[0moptimizer_v1\u001b[0m\u001b[0;34m\u001b[0m\u001b[0;34m\u001b[0m\u001b[0m\n",
      "\u001b[0;32m~/anaconda3/lib/python3.8/site-packages/keras/backend.py\u001b[0m in \u001b[0;36m<module>\u001b[0;34m\u001b[0m\n\u001b[1;32m     37\u001b[0m \u001b[0;32mfrom\u001b[0m \u001b[0mtensorflow\u001b[0m\u001b[0;34m.\u001b[0m\u001b[0mcore\u001b[0m\u001b[0;34m.\u001b[0m\u001b[0mprotobuf\u001b[0m \u001b[0;32mimport\u001b[0m \u001b[0mconfig_pb2\u001b[0m\u001b[0;34m\u001b[0m\u001b[0;34m\u001b[0m\u001b[0m\n\u001b[1;32m     38\u001b[0m \u001b[0;32mfrom\u001b[0m \u001b[0mtensorflow\u001b[0m\u001b[0;34m.\u001b[0m\u001b[0mpython\u001b[0m\u001b[0;34m.\u001b[0m\u001b[0meager\u001b[0m \u001b[0;32mimport\u001b[0m \u001b[0mcontext\u001b[0m\u001b[0;34m\u001b[0m\u001b[0;34m\u001b[0m\u001b[0m\n\u001b[0;32m---> 39\u001b[0;31m \u001b[0;32mfrom\u001b[0m \u001b[0mtensorflow\u001b[0m\u001b[0;34m.\u001b[0m\u001b[0mpython\u001b[0m\u001b[0;34m.\u001b[0m\u001b[0meager\u001b[0m\u001b[0;34m.\u001b[0m\u001b[0mcontext\u001b[0m \u001b[0;32mimport\u001b[0m \u001b[0mget_config\u001b[0m\u001b[0;34m\u001b[0m\u001b[0;34m\u001b[0m\u001b[0m\n\u001b[0m\u001b[1;32m     40\u001b[0m \u001b[0;32mfrom\u001b[0m \u001b[0mtensorflow\u001b[0m\u001b[0;34m.\u001b[0m\u001b[0mpython\u001b[0m\u001b[0;34m.\u001b[0m\u001b[0mframework\u001b[0m \u001b[0;32mimport\u001b[0m \u001b[0mconfig\u001b[0m\u001b[0;34m\u001b[0m\u001b[0;34m\u001b[0m\u001b[0m\n\u001b[1;32m     41\u001b[0m \u001b[0;32mfrom\u001b[0m \u001b[0mkeras\u001b[0m \u001b[0;32mimport\u001b[0m \u001b[0mbackend_config\u001b[0m\u001b[0;34m\u001b[0m\u001b[0;34m\u001b[0m\u001b[0m\n",
      "\u001b[0;31mImportError\u001b[0m: cannot import name 'get_config' from 'tensorflow.python.eager.context' (/home/janvier/anaconda3/lib/python3.8/site-packages/tensorflow/python/eager/context.py)"
     ]
    }
   ],
   "source": [
    "from fast_ml.model_development import train_valid_test_split\n",
    "import tensorflow as tf\n",
    "import tensorflow_addons as tfa \n",
    "from keras import backend as K\n",
    "from keras.regularizers import  l2"
   ]
  },
  {
   "cell_type": "code",
   "execution_count": null,
   "metadata": {},
   "outputs": [],
   "source": [
    "# If you want to run this code VSCode or PyCharm, use this code segment.\n",
    "# TensorFlow GPU won't support for versions of 12.0 and higher.\n",
    "import os\n",
    "os.environ['KMP_DUPLICATE_LIB_OK']='True'"
   ]
  },
  {
   "cell_type": "code",
   "execution_count": 5,
   "metadata": {},
   "outputs": [
    {
     "name": "stdout",
     "output_type": "stream",
     "text": [
      "Requirement already satisfied: tensorflow-addons in /home/janvier/anaconda3/lib/python3.8/site-packages (0.21.0)\n",
      "Requirement already satisfied: packaging in /home/janvier/.local/lib/python3.8/site-packages (from tensorflow-addons) (20.9)\n",
      "Requirement already satisfied: typeguard<3.0.0,>=2.7 in /home/janvier/anaconda3/lib/python3.8/site-packages (from tensorflow-addons) (2.13.3)\n",
      "Requirement already satisfied: pyparsing>=2.0.2 in /home/janvier/.local/lib/python3.8/site-packages (from packaging->tensorflow-addons) (2.4.7)\n",
      "\n",
      "\u001b[1m[\u001b[0m\u001b[34;49mnotice\u001b[0m\u001b[1;39;49m]\u001b[0m\u001b[39;49m A new release of pip is available: \u001b[0m\u001b[31;49m21.1.1\u001b[0m\u001b[39;49m -> \u001b[0m\u001b[32;49m25.0.1\u001b[0m\n",
      "\u001b[1m[\u001b[0m\u001b[34;49mnotice\u001b[0m\u001b[1;39;49m]\u001b[0m\u001b[39;49m To update, run: \u001b[0m\u001b[32;49mpip install --upgrade pip\u001b[0m\n",
      "Note: you may need to restart the kernel to use updated packages.\n"
     ]
    }
   ],
   "source": [
    "pip install tensorflow-addons --upgrade"
   ]
  },
  {
   "cell_type": "code",
   "execution_count": null,
   "metadata": {},
   "outputs": [],
   "source": [
    "pd.set_option('display.max_columns', None)\n",
    "pd.set_option('display.width', None)"
   ]
  },
  {
   "cell_type": "markdown",
   "metadata": {},
   "source": [
    "### B.3 Data Preprocessing"
   ]
  },
  {
   "cell_type": "markdown",
   "metadata": {},
   "source": [
    "#### B.3.1 Collection of Raw Data"
   ]
  },
  {
   "cell_type": "code",
   "execution_count": null,
   "metadata": {},
   "outputs": [],
   "source": [
    "df = pd.read_excel(\"data/data.xlsx\")\n",
    "df_main = pd.read_excel(\"data/data.xlsx\") #for baseline model"
   ]
  },
  {
   "cell_type": "markdown",
   "metadata": {},
   "source": [
    "#### B.3.2 Data Short Description"
   ]
  },
  {
   "cell_type": "code",
   "execution_count": null,
   "metadata": {},
   "outputs": [],
   "source": [
    "def check_df(dataframe, head=5):\n",
    "    print(\"##################### Shape #####################\")\n",
    "    print(dataframe.shape)\n",
    "    print(\"\\n\")\n",
    "    print(\"##################### Types #####################\")\n",
    "    print(dataframe.dtypes)\n",
    "    print(\"\\n\")\n",
    "    print(\"##################### Head #####################\")\n",
    "    print(dataframe.head(head))\n",
    "    print(\"\\n\")\n",
    "    print(\"##################### Tail #####################\")\n",
    "    print(dataframe.tail(head))\n",
    "    print(\"\\n\")\n",
    "    print(\"##################### NA #####################\")\n",
    "    print(dataframe.isnull().sum())\n",
    "    print(\"\\n\")\n",
    "    print(\"##################### Quantiles #####################\")\n",
    "    print(dataframe.quantile([0, 0.05, 0.50, 0.95, 0.99, 1]).T)"
   ]
  },
  {
   "cell_type": "code",
   "execution_count": null,
   "metadata": {},
   "outputs": [],
   "source": [
    "check_df(df)"
   ]
  },
  {
   "cell_type": "markdown",
   "metadata": {},
   "source": [
    "### B.4 Variable Type and Data Structure Consistency"
   ]
  },
  {
   "cell_type": "markdown",
   "metadata": {},
   "source": [
    "#### B.4.1 Demystifying Variables Type (Numerical / Categorical)"
   ]
  },
  {
   "cell_type": "code",
   "execution_count": null,
   "metadata": {},
   "outputs": [],
   "source": [
    "def grab_col_names(dataframe, categorical_threshold=10, cardinal_threshold=20):\n",
    "    \"\"\"\n",
    "    It gives the names of categorical, numerical and categorical but cardinal,nominal variables in the data set.\n",
    "    Note: Categorical variables but numerical variables are also included in categorical variables.\n",
    "\n",
    "    Parameters\n",
    "    ----------\n",
    "    dataframe : dataframe\n",
    "        The dataframe from which variables names are to be retrieved.\n",
    "    categorical_threshold : int, optional\n",
    "        class threshold for numeric but categorical variables\n",
    "    cardinal_threshold : int, optional\n",
    "        Class threshold for categorical but cardinal variables\n",
    "\n",
    "    Returns\n",
    "    -------\n",
    "        categorical_cols : list\n",
    "            Categorical variable list\n",
    "        numerical_cols : list\n",
    "            Numerical variable list\n",
    "        cardinal_cols : list\n",
    "            Categorical looking cardinal variable list\n",
    "\n",
    "    Examples\n",
    "    -------\n",
    "        import seaborn as sns\n",
    "        df = sns.load_titanic_dataset(\"iris\")\n",
    "        print(grab_col_names(df))\n",
    "\n",
    "    Notes\n",
    "    -------\n",
    "        categorical_cols + numerical_cols + cardinal_cols = total number of variables.\n",
    "        nominal_cols is inside categorical_cols\n",
    "        The sum of the 3 returned lists equals the total number of variables: categorical_cols + cardinal_cols = number of variables\n",
    "\n",
    "    \"\"\"\n",
    "\n",
    "    categorical_cols = [col for col in dataframe.columns if dataframe[col].dtypes == \"O\"]\n",
    "    nominal_cols = [col for col in dataframe.columns if\n",
    "                    dataframe[col].nunique() < categorical_threshold and dataframe[col].dtypes != \"O\"]\n",
    "    cardinal_cols = [col for col in dataframe.columns if\n",
    "                     dataframe[col].nunique() > cardinal_threshold and dataframe[col].dtypes == \"O\"]\n",
    "    categorical_cols = categorical_cols + nominal_cols\n",
    "    categorical_cols = [col for col in categorical_cols if col not in cardinal_cols]\n",
    "\n",
    "    # numerical_cols\n",
    "    numerical_cols = [col for col in dataframe.columns if dataframe[col].dtypes != \"O\"]\n",
    "    numerical_cols = [col for col in numerical_cols if col not in categorical_cols]\n",
    "\n",
    "    print(f\"Observations: {dataframe.shape[0]}\")\n",
    "    print(f\"Variables: {dataframe.shape[1]}\")\n",
    "    print(f'categorical_cols: {len(categorical_cols)}')\n",
    "    print(f'numerical_cols: {len(numerical_cols)}')\n",
    "    print(f'cardinal_cols: {len(cardinal_cols)}')\n",
    "    print(f'nominal_cols: {len(nominal_cols)}')\n",
    "    return categorical_cols, numerical_cols, cardinal_cols, nominal_cols"
   ]
  },
  {
   "cell_type": "code",
   "execution_count": null,
   "metadata": {},
   "outputs": [],
   "source": [
    "# Değişken türlerin ayrıştırılması\n",
    "categorical_cols, numerical_cols, cardinal_cols, nominal_cols = grab_col_names(df, categorical_threshold=5, cardinal_threshold=20)"
   ]
  },
  {
   "cell_type": "code",
   "execution_count": null,
   "metadata": {},
   "outputs": [],
   "source": [
    "print(\"Categorical column names: {} \\n\".format(categorical_cols))\n",
    "print(\"Numerical column names: {}\\n\".format(numerical_cols))\n",
    "print(\"Cardinal column names: {}\\n\".format(cardinal_cols))\n",
    "print(\"Nominal column names: {}\".format(nominal_cols))"
   ]
  },
  {
   "cell_type": "markdown",
   "metadata": {},
   "source": [
    "#### B.4.2 Data Structure Control (Float / String / Integer)"
   ]
  },
  {
   "cell_type": "code",
   "execution_count": null,
   "metadata": {},
   "outputs": [],
   "source": [
    "\"\"\"\n",
    "\n",
    "Description:\n",
    "-----------\n",
    "\n",
    "Algorithm print out comprises missing ratios and unique values of each column i a given dataframe\n",
    "\n",
    "\n",
    "R&D:\n",
    "---\n",
    "\n",
    "Add '#_infinity_' column to the dataframe\n",
    "\n",
    "\"\"\"\n",
    "\n",
    "def MissingUniqueStatistics(df):\n",
    "\n",
    "  import io\n",
    "  import pandas as pd\n",
    "  import psutil, os, gc, time\n",
    "  import seaborn as sns\n",
    "  from IPython.display import display, HTML\n",
    "  # pd.set_option('display.max_colwidth', -1)\n",
    "  from io import BytesIO\n",
    "  import base64\n",
    "\n",
    "  print(\"MissingUniqueStatistics process has began:\\n\")\n",
    "  proc = psutil.Process(os.getpid())\n",
    "  gc.collect()\n",
    "  mem_0 = proc.memory_info().rss\n",
    "  start_time = time.time()\n",
    "\n",
    "\n",
    "  variable_name_list = []\n",
    "  total_entry_list = []\n",
    "  data_type_list = []\n",
    "  unique_values_list = []\n",
    "  number_of_unique_values_list = []\n",
    "  missing_value_number_list = []\n",
    "  missing_value_ratio_list = []\n",
    "  mean_list=[]\n",
    "  std_list=[]\n",
    "  min_list=[]\n",
    "  Q1_list=[]\n",
    "  Q2_list=[]\n",
    "  Q3_list=[]\n",
    "  max_list=[]\n",
    "\n",
    "  df_statistics = df.describe().copy()\n",
    "\n",
    "  for col in df.columns:\n",
    "\n",
    "    variable_name_list.append(col)\n",
    "    total_entry_list.append(df.loc[:,col].shape[0])\n",
    "    data_type_list.append(df.loc[:,col].dtype)\n",
    "    unique_values_list.append(list(df.loc[:,col].unique()))\n",
    "    number_of_unique_values_list.append(len(list(df.loc[:,col].unique())))\n",
    "    missing_value_number_list.append(df.loc[:,col].isna().sum())\n",
    "    missing_value_ratio_list.append(round((df.loc[:,col].isna().sum()/df.loc[:,col].shape[0]),4))\n",
    "\n",
    "    try:\n",
    "      mean_list.append(df_statistics.loc[:,col][1])\n",
    "      std_list.append(df_statistics.loc[:,col][2])\n",
    "      min_list.append(df_statistics.loc[:,col][3])\n",
    "      Q1_list.append(df_statistics.loc[:,col][4])\n",
    "      Q2_list.append(df_statistics.loc[:,col][5])\n",
    "      Q3_list.append(df_statistics.loc[:,col][6])\n",
    "      max_list.append(df_statistics.loc[:,col][7])\n",
    "    except:\n",
    "      mean_list.append('NaN')\n",
    "      std_list.append('NaN')\n",
    "      min_list.append('NaN')\n",
    "      Q1_list.append('NaN')\n",
    "      Q2_list.append('NaN')\n",
    "      Q3_list.append('NaN')\n",
    "      max_list.append('NaN')\n",
    "\n",
    "  data_info_df = pd.DataFrame({'Variable': variable_name_list,\n",
    "                               '#_Total_Entry':total_entry_list,\n",
    "                               '#_Missing_Value': missing_value_number_list,\n",
    "                               '%_Missing_Value':missing_value_ratio_list,\n",
    "                               'Data_Type': data_type_list,\n",
    "                               'Unique_Values': unique_values_list,\n",
    "                               '#_Unique_Values':number_of_unique_values_list,\n",
    "                               'Mean':mean_list,\n",
    "                               'STD':std_list,\n",
    "                               'Min':min_list,\n",
    "                               'Q1':Q1_list,\n",
    "                               'Q2':Q2_list,\n",
    "                               'Q3':Q3_list,\n",
    "                               'Max':max_list\n",
    "                               })\n",
    "\n",
    "  data_info_df = data_info_df.set_index(\"Variable\", inplace=False)\n",
    "\n",
    "\n",
    "  print('MissingUniqueStatistics process has been completed!')\n",
    "  print(\"--- in %s minutes ---\" % ((time.time() - start_time)/60))\n",
    "\n",
    "  return data_info_df.sort_values(by='%_Missing_Value', ascending=False)#, HTML(df.to_html(escape=False, formatters=dict(col=mapping)))\n"
   ]
  },
  {
   "cell_type": "code",
   "execution_count": null,
   "metadata": {},
   "outputs": [],
   "source": [
    "data_info = MissingUniqueStatistics(df)\n",
    "# data_info = data_info.set_index(\"Variable\")\n",
    "data_info"
   ]
  },
  {
   "cell_type": "markdown",
   "metadata": {},
   "source": [
    "### B.5 Building the Target Variable (Regression or Classification)"
   ]
  },
  {
   "cell_type": "code",
   "execution_count": null,
   "metadata": {},
   "outputs": [],
   "source": [
    "%matplotlib inline\n",
    "# Histogram of the target categories\n",
    "def histogram(df,feature):\n",
    "    #df = input(\"Enter a DataFrame name: \")\n",
    "    #col = input(\"Enter a target column name: \")\n",
    "    #df=eval(df)\n",
    "    ncount = len(df)\n",
    "    ax = sns.countplot(x = feature, data=df ,palette=\"hls\")\n",
    "    sns.set(font_scale=1)\n",
    "    ax.set_xlabel('Target Segments')\n",
    "    plt.xticks(rotation=90)\n",
    "    ax.set_ylabel('Number of Observations')\n",
    "    fig = plt.gcf()\n",
    "    fig.set_size_inches(12,5)\n",
    "    # Make twin axis\n",
    "    ax2=ax.twinx()\n",
    "    # Switch so count axis is on right, frequency on left\n",
    "    ax2.yaxis.tick_left()\n",
    "    ax.yaxis.tick_right()\n",
    "    # Also switch the labels over\n",
    "    ax.yaxis.set_label_position('right')\n",
    "    ax2.yaxis.set_label_position('left')\n",
    "    ax2.set_ylabel('Frequency [%]')\n",
    "    for p in ax.patches:\n",
    "        x=p.get_bbox().get_points()[:,0]\n",
    "        y=p.get_bbox().get_points()[1,1]\n",
    "        ax.annotate('{:.2f}%'.format(100.*y/ncount), (x.mean(), y),\n",
    "                ha='center', va='bottom') # set the alignment of the text\n",
    "    # Use a LinearLocator to ensure the correct number of ticks\n",
    "    ax.yaxis.set_major_locator(ticker.LinearLocator(11))\n",
    "    # Fix the frequency range to 0-100\n",
    "    ax2.set_ylim(0,100)\n",
    "    ax.set_ylim(0,ncount)\n",
    "    # And use a MultipleLocator to ensure a tick spacing of 10\n",
    "    ax2.yaxis.set_major_locator(ticker.MultipleLocator(10))\n",
    "    # Need to turn the grid on ax2 off, otherwise the gridlines end up on top of the bars\n",
    "    ax2.grid(None)\n",
    "    plt.title('Histogram of Binary Target Categories', fontsize=20, y=1.08)\n",
    "    plt.show()\n",
    "    #plt.savefig('col.png')\n",
    "    del ncount, x, y"
   ]
  },
  {
   "cell_type": "code",
   "execution_count": null,
   "metadata": {},
   "outputs": [],
   "source": [
    "target= \"CDRGLOB\"\n",
    "\n",
    "histogram(df,target)"
   ]
  },
  {
   "cell_type": "markdown",
   "metadata": {},
   "source": [
    "When we look at the histogram graph, we understand that we have imbalanced dataset. We will do oversampling to solve this problem."
   ]
  },
  {
   "cell_type": "markdown",
   "metadata": {},
   "source": [
    "## C. Data Analysis\n",
    "\n",
    "### C.1 Preparatory Data Analysis (PDA)\n",
    "\n",
    "#### C.1.1 Data Dropping\n",
    "\n",
    "We did this in the first place by looking at the form given to us. "
   ]
  },
  {
   "cell_type": "markdown",
   "metadata": {},
   "source": [
    "#### C.1.2 Outlier Handling"
   ]
  },
  {
   "cell_type": "markdown",
   "metadata": {},
   "source": [
    "##### C.1.2.1 Finding Outliers"
   ]
  },
  {
   "cell_type": "code",
   "execution_count": null,
   "metadata": {},
   "outputs": [],
   "source": [
    "def outlier_thresholds(dataframe, col_name, q1=0.25, q3=0.75):\n",
    "    quartile1 = dataframe[col_name].quantile(q1)\n",
    "    quartile3 = dataframe[col_name].quantile(q3)\n",
    "    interquartile_range = quartile3 - quartile1\n",
    "    up_limit = quartile3 + (1.5 * interquartile_range)\n",
    "    low_limit = quartile1 - (1.5 * interquartile_range)\n",
    "    return low_limit, up_limit"
   ]
  },
  {
   "cell_type": "code",
   "execution_count": null,
   "metadata": {},
   "outputs": [],
   "source": [
    "def check_outlier(dataframe, col_name):\n",
    "    low_limit, up_limit = outlier_thresholds(dataframe, col_name)\n",
    "    if dataframe[(dataframe[col_name] > up_limit) | (dataframe[col_name] < low_limit)].any(axis=None):\n",
    "        return True\n",
    "    else:\n",
    "        return False"
   ]
  },
  {
   "cell_type": "code",
   "execution_count": null,
   "metadata": {},
   "outputs": [],
   "source": [
    "for col in numerical_cols:\n",
    "    print(col, check_outlier(df, col))"
   ]
  },
  {
   "cell_type": "markdown",
   "metadata": {},
   "source": [
    "##### C.1.2.2 Accessing Outliers"
   ]
  },
  {
   "cell_type": "code",
   "execution_count": null,
   "metadata": {},
   "outputs": [],
   "source": [
    "def grab_outliers(dataframe, col_name, index=False):\n",
    "    low, up = outlier_thresholds(dataframe, col_name)\n",
    "    if dataframe[((dataframe[col_name] < low) | (dataframe[col_name] > up))].shape[0] > 10:\n",
    "        print(dataframe[((dataframe[col_name] < low) | (dataframe[col_name] > up))].head())\n",
    "    else:\n",
    "        print(dataframe[((dataframe[col_name] < low) | (dataframe[col_name] > up))])\n",
    "\n",
    "    if index:\n",
    "        outlier_index = dataframe[((dataframe[col_name] < low) | (dataframe[col_name] > up))].index\n",
    "        return outlier_index"
   ]
  },
  {
   "cell_type": "code",
   "execution_count": null,
   "metadata": {},
   "outputs": [],
   "source": [
    "for col in numerical_cols:\n",
    "  grab_outliers(df,col,True)"
   ]
  },
  {
   "cell_type": "markdown",
   "metadata": {},
   "source": [
    "##### C.1.2.3 Solving the Outlier Problem"
   ]
  },
  {
   "cell_type": "code",
   "execution_count": null,
   "metadata": {},
   "outputs": [],
   "source": [
    "def replace_with_thresholds(dataframe, variable):\n",
    "    low_limit, up_limit = outlier_thresholds(dataframe, variable)\n",
    "    dataframe.loc[(dataframe[variable] < low_limit), variable] = low_limit\n",
    "    dataframe.loc[(dataframe[variable] > up_limit), variable] = up_limit"
   ]
  },
  {
   "cell_type": "code",
   "execution_count": null,
   "metadata": {},
   "outputs": [],
   "source": [
    "for col in numerical_cols:\n",
    "    replace_with_thresholds(df, col)"
   ]
  },
  {
   "cell_type": "code",
   "execution_count": null,
   "metadata": {},
   "outputs": [],
   "source": [
    "for col in numerical_cols:\n",
    "    print(col, check_outlier(df, col))"
   ]
  },
  {
   "cell_type": "markdown",
   "metadata": {},
   "source": [
    "#### C.1.3 Missing Data Handling"
   ]
  },
  {
   "cell_type": "code",
   "execution_count": null,
   "metadata": {},
   "outputs": [],
   "source": [
    "def missing_values_table(dataframe, na_name=False):\n",
    "\n",
    "    # Column Names with Missing Values\n",
    "    na_columns = [col for col in dataframe.columns if dataframe[col].isnull().sum() > 0]\n",
    "\n",
    "    # Number of Missing Values of One Column\n",
    "    number_of_missing_values = dataframe[na_columns].isnull().sum().sort_values(ascending=False)\n",
    "\n",
    "    # Percentage Distribution of Missing Data\n",
    "    percentage_ratio = (dataframe[na_columns].isnull().sum() / dataframe.shape[0] * 100).sort_values(ascending=False)\n",
    "\n",
    "    # Dataframe with Missing Data\n",
    "    missing_df = pd.concat([number_of_missing_values, np.round(percentage_ratio, 2)], axis=1, keys=['number_of_missing_values', 'percentage_ratio'])\n",
    "\n",
    "    print(missing_df, end=\"\\n\")\n",
    "\n",
    "    if na_name:\n",
    "        return na_columns"
   ]
  },
  {
   "cell_type": "code",
   "execution_count": null,
   "metadata": {},
   "outputs": [],
   "source": [
    "missing_values_table(df)"
   ]
  },
  {
   "cell_type": "markdown",
   "metadata": {},
   "source": [
    "### C.2 Exploratory Data Analysis"
   ]
  },
  {
   "cell_type": "markdown",
   "metadata": {},
   "source": [
    "#### C.2.1 Basic Visualization"
   ]
  },
  {
   "cell_type": "markdown",
   "metadata": {},
   "source": [
    "##### C.2.1.1 Univariate plots (PDF - PMF / BoxPlot / QQ Plot)"
   ]
  },
  {
   "cell_type": "markdown",
   "metadata": {},
   "source": [
    "###### C.2.1.1.1 Analysis of Categorical Variables"
   ]
  },
  {
   "cell_type": "code",
   "execution_count": null,
   "metadata": {},
   "outputs": [],
   "source": [
    "def cat_summary(dataframe, col_name, plot=False,savefig=False):\n",
    "    \"\"\"\n",
    "    It gives summary of categorical columns with a plot.\n",
    "\n",
    "    Args:\n",
    "        dataframe (dataframe): The dataframe from which variables names are to be retrieved.\n",
    "        col_name (string): The column names from which features names are to be retrieved\n",
    "        plot (bool, optional): Plot the figure of the specified column. Defaults to False.\n",
    "        savefig(bool, optional): Save the figure of the specific column to the folder. Defaults to False\n",
    "    \"\"\"\n",
    "    print(pd.DataFrame({col_name: dataframe[col_name].value_counts(),\n",
    "                        \"Ratio\": 100 * dataframe[col_name].value_counts() / len(dataframe)}))\n",
    "    print(\"########################################## \\n\")\n",
    "\n",
    "    if plot:\n",
    "        ax = sns.countplot(x=dataframe[col_name], data=dataframe,\n",
    "                           order = df[col_name].value_counts().index)\n",
    "\n",
    "        ncount = len(dataframe)\n",
    "        sns.set(font_scale = 1)\n",
    "\n",
    "        for p in ax.patches:\n",
    "            x = p.get_bbox().get_points()[:, 0]\n",
    "            y = p.get_bbox().get_points()[1, 1]\n",
    "            ax.annotate('{:.2f}%'.format(100.*y/ncount), (x.mean(), y),ha='center', va='bottom')  # set the alignment of the text\n",
    "\n",
    "        # Use a LinearLocator to ensure the correct number of ticks\n",
    "        ax.yaxis.set_major_locator(ticker.LinearLocator(11))\n",
    "\n",
    "        plt.xticks(rotation=45)\n",
    "        plt.title(\"{} Count Graph.png\".format(col_name.capitalize()))\n",
    "        if savefig:\n",
    "            plt.savefig(\"{} Count Graph.png\".format(col_name.capitalize()))\n",
    "        plt.show(block=True)"
   ]
  },
  {
   "cell_type": "code",
   "execution_count": null,
   "metadata": {},
   "outputs": [],
   "source": [
    "# Kategorik değişkenlerin incelenmesi\n",
    "\n",
    "for col in categorical_cols:\n",
    "    cat_summary(df, col, plot=True, savefig=False)"
   ]
  },
  {
   "cell_type": "markdown",
   "metadata": {},
   "source": [
    "###### C.2.1.1.1 Analysis of Target Variable with Categorical Variables"
   ]
  },
  {
   "cell_type": "code",
   "execution_count": null,
   "metadata": {},
   "outputs": [],
   "source": [
    "def target_summary_with_categorical_data(dataframe, target, categorical_col):\n",
    "    \"\"\"\n",
    "    It gives the summary of specified categorical column name according to target column.\n",
    "\n",
    "    Args:\n",
    "        dataframe (dataframe): The dataframe from which variables names are to be retrieved.\n",
    "        target (string): The target column name are to be retrieved.\n",
    "        categorical_col (string): The categorical column names are to be retrieved.\n",
    "    \"\"\"\n",
    "    print(pd.DataFrame({\"TARGET_MEAN\": dataframe.groupby(categorical_col)[target].mean()}), end=\"\\n\\n\\n\")"
   ]
  },
  {
   "cell_type": "code",
   "execution_count": null,
   "metadata": {},
   "outputs": [],
   "source": [
    "for col in categorical_cols:\n",
    "    target_summary_with_categorical_data(dataframe=df, target = target, categorical_col=col)"
   ]
  },
  {
   "cell_type": "markdown",
   "metadata": {},
   "source": [
    "###### C.2.1.1.2 Analysis of Numerical Variables"
   ]
  },
  {
   "cell_type": "code",
   "execution_count": null,
   "metadata": {},
   "outputs": [],
   "source": [
    "# Sayısal değişkenlerin incelenmesi\n",
    "df[numerical_cols].describe().T"
   ]
  },
  {
   "cell_type": "code",
   "execution_count": null,
   "metadata": {},
   "outputs": [],
   "source": [
    "def num_summary(dataframe, col_name, plot=False, savefig=False):\n",
    "    \"\"\"\n",
    "    It gives the summary of numerical columns with a plot.\n",
    "\n",
    "    Args:\n",
    "        dataframe (dataframe): The dataframe from which variables names are to be retrieved.\n",
    "        col_name (string): The column names from which features names are to be retrieved\n",
    "        plot (bool, optional): Plot the figure of the specified column. Defaults to False.\n",
    "        savefig(bool, optional): Save the figure of the specific column to the folder. Defaults to False\n",
    "\n",
    "    \"\"\"\n",
    "    quantiles = [0.05, 0.10, 0.20, 0.30, 0.40, 0.50, 0.60, 0.70, 0.80, 0.90, 0.95, 0.99]\n",
    "    print(dataframe[col_name].describe(quantiles).T)\n",
    "\n",
    "    if plot:\n",
    "        dataframe[col_name].hist()\n",
    "        plt.xlabel(col_name)\n",
    "        plt.title(\"{} Histogram Graph.png\".format(col_name.capitalize()))\n",
    "        if savefig:\n",
    "            plt.savefig(\"{} Histogram Graph.png\".format(col_name.capitalize()))\n",
    "        plt.show(block=True)"
   ]
  },
  {
   "cell_type": "code",
   "execution_count": null,
   "metadata": {},
   "outputs": [],
   "source": [
    "for col in numerical_cols:\n",
    "    num_summary(df, col, True)"
   ]
  },
  {
   "cell_type": "markdown",
   "metadata": {},
   "source": [
    "###### C.2.1.1.2 Analysis of Target Variable with Numerical Variables"
   ]
  },
  {
   "cell_type": "code",
   "execution_count": null,
   "metadata": {},
   "outputs": [],
   "source": [
    "def target_summary_with_numerical_data(dataframe, target, numerical_col):\n",
    "    \"\"\"\n",
    "    It gives the summary of specified numerical column name according to target column.\n",
    "\n",
    "    Args:\n",
    "        dataframe (dataframe): The dataframe from which variables names are to be retrieved.\n",
    "        target (string): The target column name are to be retrieved.\n",
    "        numerical_col (string): The numerical column names are to be retrieved.\n",
    "    \"\"\"\n",
    "    print(dataframe.groupby(target).agg({numerical_col: \"mean\"}), end=\"\\n\\n\\n\")"
   ]
  },
  {
   "cell_type": "code",
   "execution_count": null,
   "metadata": {},
   "outputs": [],
   "source": [
    "for col in numerical_cols:\n",
    "    target_summary_with_numerical_data(df, target ,col)"
   ]
  },
  {
   "cell_type": "markdown",
   "metadata": {},
   "source": [
    "#### C.2.1.2 Multivariate Plots (Scatter Plot / Histogram)"
   ]
  },
  {
   "cell_type": "code",
   "execution_count": null,
   "metadata": {},
   "outputs": [],
   "source": [
    "column_names1 = [\"DEL\",\"HALL\",\"DEPD\",\"ANX\",\"APA\",\"DISN\",\"IRR\",\"MOT\",\"AGIT\",\"ELAT\",\"NITE\",\"APP\"]\n",
    "\n",
    "df_pivot = df.pivot_table(values=column_names1,\n",
    "                   index=[\"SEX\",\"CDRGLOB\"],\n",
    "                   aggfunc=\"sum\")\n",
    "df_pivot"
   ]
  },
  {
   "cell_type": "code",
   "execution_count": null,
   "metadata": {},
   "outputs": [],
   "source": [
    "from matplotlib.pyplot import figure\n",
    "\n",
    "figure(figsize=(8, 6), dpi=80)\n",
    "\n",
    "df_pivot.plot.barh(stacked=True)\n",
    "plt.title(\"Relationship between \\n B5 Neuropsychiatric Inventory Questionnaire Features - \\n Sex - Alzheimer Impairment Level\")\n",
    "plt.savefig(\"Relationship between B5 Neuropsychiatric Inventory Questionnaire Features - Sex - Alzheimer Impairment Level.png\")"
   ]
  },
  {
   "cell_type": "markdown",
   "metadata": {},
   "source": [
    "### C.3 Confirmatory Data Analysis"
   ]
  },
  {
   "cell_type": "markdown",
   "metadata": {},
   "source": [
    "#### C.3.1 Feature Selection (Importances, Associations, and Significances)"
   ]
  },
  {
   "cell_type": "markdown",
   "metadata": {},
   "source": [
    "##### C.3.1.1 Chi-Square test for Nominal Features"
   ]
  },
  {
   "cell_type": "code",
   "execution_count": null,
   "metadata": {},
   "outputs": [],
   "source": [
    "def chi2_by_hand(df, col1, col2):\n",
    "    #---create the contingency table---\n",
    "    df_cont = pd.crosstab(index = df[col1], columns = df[col2])\n",
    "    display(df_cont)\n",
    "    #---calculate degree of freedom---\n",
    "    degree_f = (df_cont.shape[0]-1) * (df_cont.shape[1]-1)\n",
    "    #---sum up the totals for row and columns---\n",
    "    df_cont.loc[:,'Total']= df_cont.sum(axis=1)\n",
    "    df_cont.loc['Total']= df_cont.sum()\n",
    "\n",
    "    #---create the expected value dataframe---\n",
    "    df_exp = df_cont.copy()\n",
    "    df_exp.iloc[:,:] = np.multiply.outer(\n",
    "        df_cont.sum(1).values,df_cont.sum().values) / df_cont.sum().sum()\n",
    "\n",
    "    # calculate chi-square values\n",
    "    df_chi2 = ((df_cont - df_exp)**2) / df_exp\n",
    "    df_chi2.loc[:,'Total']= df_chi2.sum(axis=1)\n",
    "    df_chi2.loc['Total']= df_chi2.sum()\n",
    "\n",
    "    #---get chi-square score---\n",
    "    chi_square_score = df_chi2.iloc[:-1,:-1].sum().sum()\n",
    "\n",
    "    #---calculate the p-value---\n",
    "    from scipy import stats\n",
    "    p = stats.distributions.chi2.sf(chi_square_score, degree_f)\n",
    "\n",
    "    return chi_square_score, degree_f, p"
   ]
  },
  {
   "cell_type": "code",
   "execution_count": null,
   "metadata": {},
   "outputs": [],
   "source": [
    "nominal_cols_for_exclude = []\n",
    "\n",
    "for col in nominal_cols:\n",
    "    chi_score, degree_f, p = chi2_by_hand(df,col,target)\n",
    "    if p >= 0.05:\n",
    "        nominal_cols_for_exclude.append(col)\n",
    "    else:\n",
    "        print(f'Chi2_score: {chi_score}, Degrees of freedom: {degree_f}, p-value: {p}')"
   ]
  },
  {
   "cell_type": "code",
   "execution_count": null,
   "metadata": {},
   "outputs": [],
   "source": [
    "nominal_cols_for_exclude"
   ]
  },
  {
   "cell_type": "markdown",
   "metadata": {},
   "source": [
    "##### C.3.1.2 ANOVA Test for Numerical Features"
   ]
  },
  {
   "cell_type": "code",
   "execution_count": null,
   "metadata": {},
   "outputs": [],
   "source": [
    "import statsmodels.api as sm\n",
    "from statsmodels.formula.api import ols\n",
    "\n",
    "numerical_cols_for_exclude = []\n",
    "\n",
    "for col in numerical_cols:\n",
    "    model = ols(target + '~' + col, data = df).fit() #Ordinary least square method\n",
    "    result_anova = sm.stats.anova_lm(model, typ = 2) # ANOVA Test\n",
    "    if result_anova.loc[col][\"PR(>F)\"] >= 0.05: \n",
    "        numerical_cols_for_exclude.append(col) # Save column names with pi-value greater than 0.05\n",
    "    else:\n",
    "        print(result_anova)\n",
    "        print(\"\\n\")"
   ]
  },
  {
   "cell_type": "code",
   "execution_count": null,
   "metadata": {},
   "outputs": [],
   "source": [
    "numerical_cols_for_exclude"
   ]
  },
  {
   "cell_type": "code",
   "execution_count": null,
   "metadata": {},
   "outputs": [],
   "source": [
    "df_new = df.drop(columns=nominal_cols_for_exclude) # data set changed"
   ]
  },
  {
   "cell_type": "code",
   "execution_count": null,
   "metadata": {},
   "outputs": [],
   "source": [
    "df_new.head()"
   ]
  },
  {
   "cell_type": "code",
   "execution_count": null,
   "metadata": {},
   "outputs": [],
   "source": [
    "# Değişken türlerin güncellenmesi\n",
    "categorical_cols, numerical_cols, cardinal_cols, nominal_cols = grab_col_names(df_new, categorical_threshold=6, cardinal_threshold=20)"
   ]
  },
  {
   "cell_type": "markdown",
   "metadata": {},
   "source": [
    "## D. Feature Engineering"
   ]
  },
  {
   "cell_type": "markdown",
   "metadata": {},
   "source": [
    "### D.1 Encoding"
   ]
  },
  {
   "cell_type": "markdown",
   "metadata": {},
   "source": [
    "#### D.1.1 Label Encoding"
   ]
  },
  {
   "cell_type": "code",
   "execution_count": null,
   "metadata": {},
   "outputs": [],
   "source": [
    "def label_encoder(dataframe, binary_col):\n",
    "    \"\"\"\n",
    "    Apply Label Encoding to all specified categorical columns\n",
    "\n",
    "    Args:\n",
    "        dataframe (dataframe): The dataframe from which variables names are to be retrieved.\n",
    "        binary_col (string): The numerical column names are to be retrieved.\n",
    "\n",
    "    Returns:\n",
    "        dataframe: Return the new dataframe\n",
    "    \"\"\"\n",
    "    labelencoder = LabelEncoder()\n",
    "    dataframe[binary_col] = labelencoder.fit_transform(dataframe[binary_col])\n",
    "    return dataframe"
   ]
  },
  {
   "cell_type": "code",
   "execution_count": null,
   "metadata": {},
   "outputs": [],
   "source": [
    "binary_cols = [col for col in df_new.columns if df_new[col].dtypes == \"O\" and df_new[col].nunique() == 2]\n",
    "binary_cols"
   ]
  },
  {
   "cell_type": "code",
   "execution_count": null,
   "metadata": {},
   "outputs": [],
   "source": [
    "for col in binary_cols:\n",
    "    df_new = label_encoder(df_new, col)"
   ]
  },
  {
   "cell_type": "markdown",
   "metadata": {},
   "source": [
    "#### D.1.2 One-Hot Encoding"
   ]
  },
  {
   "cell_type": "code",
   "execution_count": null,
   "metadata": {},
   "outputs": [],
   "source": [
    "def one_hot_encoder(dataframe, categorical_cols, drop_first=False):\n",
    "    \"\"\"\n",
    "    Apply One Hot Encoding to all specified categorical columns.\n",
    "\n",
    "    Args:\n",
    "        dataframe (dataframe): The dataframe from which variables names are to be retrieved.\n",
    "        categorical_col (string): The numerical column names are to be retrieved.\n",
    "        drop_first (bool, optional): Remove the first column after one hot encoding process to prevent overfitting. Defaults to False.\n",
    "\n",
    "    Returns:\n",
    "        dataframe: Return the new dataframe\n",
    "    \"\"\"\n",
    "    dataframe = pd.get_dummies(dataframe, columns=categorical_cols, drop_first=drop_first)\n",
    "    return dataframe"
   ]
  },
  {
   "cell_type": "code",
   "execution_count": null,
   "metadata": {},
   "outputs": [],
   "source": [
    "one_hot_encoding_cols = [col for col in categorical_cols if 10 >= df_new[col].nunique() > 2 and col != \"CDRGLOB\"]"
   ]
  },
  {
   "cell_type": "code",
   "execution_count": null,
   "metadata": {},
   "outputs": [],
   "source": [
    "one_hot_encoding_cols"
   ]
  },
  {
   "cell_type": "code",
   "execution_count": null,
   "metadata": {},
   "outputs": [],
   "source": [
    "df_new = one_hot_encoder(df_new, one_hot_encoding_cols,drop_first=True)"
   ]
  },
  {
   "cell_type": "code",
   "execution_count": null,
   "metadata": {},
   "outputs": [],
   "source": [
    "df_new.columns = [col.upper() for col in df_new.columns]"
   ]
  },
  {
   "cell_type": "code",
   "execution_count": null,
   "metadata": {},
   "outputs": [],
   "source": [
    "# Son final değişken türleri\n",
    "categorical_cols, numerical_cols, cardinal_cols, nominal_cols = grab_col_names(df_new,\n",
    "                                                                               categorical_threshold=5,\n",
    "                                                                               cardinal_threshold=20)"
   ]
  },
  {
   "cell_type": "code",
   "execution_count": null,
   "metadata": {},
   "outputs": [],
   "source": [
    "categorical_cols = [col for col in categorical_cols if \"CDRGLOB\" not in col]"
   ]
  },
  {
   "cell_type": "code",
   "execution_count": null,
   "metadata": {},
   "outputs": [],
   "source": [
    "df_new.head()"
   ]
  },
  {
   "cell_type": "markdown",
   "metadata": {},
   "source": [
    "## E. Modeling"
   ]
  },
  {
   "cell_type": "markdown",
   "metadata": {},
   "source": [
    "### E.1 Data Splitting"
   ]
  },
  {
   "cell_type": "code",
   "execution_count": null,
   "metadata": {},
   "outputs": [],
   "source": [
    "X_train,y_train, X_valid, y_valid, X_test, y_test = train_valid_test_split(df_new, target = target,\n",
    "                                                                           train_size= 0.7,\n",
    "                                                                           valid_size = 0.15,\n",
    "                                                                           test_size = 0.15,\n",
    "                                                                           random_state=0)\n",
    "\n",
    "print(X_train.shape), print(y_train.shape)\n",
    "print(X_valid.shape), print(y_valid.shape)\n",
    "print(X_test.shape), print(y_test.shape)"
   ]
  },
  {
   "cell_type": "markdown",
   "metadata": {},
   "source": [
    "### E.2 SMOTE Oversampling for train dataset"
   ]
  },
  {
   "cell_type": "code",
   "execution_count": null,
   "metadata": {},
   "outputs": [],
   "source": [
    "# smote oversampling önce eğitim setindeki sınıf sayısı\n",
    "y_train.value_counts()"
   ]
  },
  {
   "cell_type": "code",
   "execution_count": null,
   "metadata": {},
   "outputs": [],
   "source": [
    "# Smote uygulanması (Eğitim setine uygulanıyor)\n",
    "from imblearn.over_sampling import SMOTE\n",
    "\n",
    "smote = SMOTE(random_state=101)\n",
    "X_train_smote, y_train_smote = smote.fit_resample(X_train, y_train)"
   ]
  },
  {
   "cell_type": "code",
   "execution_count": null,
   "metadata": {},
   "outputs": [],
   "source": [
    "# random oversampling işleminden sonra eğitim setinin sınıf sayısı\n",
    "y_train_smote.value_counts()"
   ]
  },
  {
   "cell_type": "code",
   "execution_count": null,
   "metadata": {},
   "outputs": [],
   "source": [
    "histogram(X_train_smote,y_train_smote)"
   ]
  },
  {
   "cell_type": "code",
   "execution_count": null,
   "metadata": {},
   "outputs": [],
   "source": [
    "print(X_train_smote.shape), print(y_train_smote.shape)\n",
    "print(X_valid.shape), print(y_valid.shape)\n",
    "print(X_test.shape), print(y_test.shape)"
   ]
  },
  {
   "cell_type": "code",
   "execution_count": null,
   "metadata": {},
   "outputs": [],
   "source": [
    "df_after_smote = pd.merge(X_train_smote, y_train_smote , left_index = True, right_index=True)"
   ]
  },
  {
   "cell_type": "markdown",
   "metadata": {},
   "source": [
    "### E.3 Data Transformation - Scaling"
   ]
  },
  {
   "cell_type": "markdown",
   "metadata": {},
   "source": [
    "#### E.3.1 Transformation (Scaling Numerical Variables)"
   ]
  },
  {
   "cell_type": "code",
   "execution_count": null,
   "metadata": {},
   "outputs": [],
   "source": [
    "min_max_scaler = MinMaxScaler()\n",
    "\n",
    "X_train_smote = min_max_scaler.fit_transform(X_train_smote)\n",
    "X_valid = min_max_scaler.transform(X_valid)\n",
    "X_test = min_max_scaler.transform(X_test)"
   ]
  },
  {
   "cell_type": "markdown",
   "metadata": {},
   "source": [
    "### E.4 Metric, Baseline, and Estimator / Classifier Selection"
   ]
  },
  {
   "cell_type": "markdown",
   "metadata": {},
   "source": [
    "#### E.4.1 Metric and Baseline Selection for Model Evaluation"
   ]
  },
  {
   "cell_type": "markdown",
   "metadata": {},
   "source": [
    "##### E.4.1.1 Metric Selection\n",
    "\n",
    "I will be use accuracy, recall, precision, f1-score, auc metric."
   ]
  },
  {
   "cell_type": "markdown",
   "metadata": {},
   "source": [
    "##### E.4.1.2 Baseline Selection"
   ]
  },
  {
   "cell_type": "code",
   "execution_count": null,
   "metadata": {},
   "outputs": [],
   "source": [
    "X_train_baseline,y_train_baseline, X_valid_baseline, y_valid_baseline, X_test_baseline, y_test_baseline = train_valid_test_split(df_main, target = target,\n",
    "                                                                           train_size= 0.7,\n",
    "                                                                           valid_size = 0.15,\n",
    "                                                                           test_size = 0.15,\n",
    "                                                                           random_state=0)\n",
    "\n",
    "print(X_train_baseline.shape), print(y_train_baseline.shape)\n",
    "print(X_valid_baseline.shape), print(y_valid_baseline.shape)\n",
    "print(X_test_baseline.shape), print(y_test_baseline.shape)"
   ]
  },
  {
   "cell_type": "code",
   "execution_count": null,
   "metadata": {},
   "outputs": [],
   "source": [
    "from sklearn.linear_model import LogisticRegression\n",
    "\n",
    "\n",
    "lg_model = LogisticRegression().fit(X_train_baseline, y_train_baseline)\n",
    "y_pred2 =lg_model.predict(X_valid_baseline)\n",
    "\n",
    "print(classification_report(y_valid_baseline, y_pred2))"
   ]
  },
  {
   "cell_type": "code",
   "execution_count": null,
   "metadata": {},
   "outputs": [],
   "source": [
    "rf_model = RandomForestClassifier(random_state=46).fit(X_train_baseline, y_train_baseline)\n",
    "y_pred = rf_model.predict(X_valid_baseline)\n",
    "\n",
    "print(classification_report(y_valid_baseline, y_pred))"
   ]
  },
  {
   "cell_type": "markdown",
   "metadata": {},
   "source": [
    "### E.5 Estimator / Classifier Selection"
   ]
  },
  {
   "cell_type": "code",
   "execution_count": null,
   "metadata": {},
   "outputs": [],
   "source": [
    "def valid_accuracy_result(model):\n",
    "    predictions = [round(value) for value in model.predict(X_valid)]\n",
    "    accuracy = accuracy_score(y_valid, predictions)\n",
    "    return accuracy\n",
    "\n",
    "\n",
    "def test_accuracy_result(model):\n",
    "    predictions = [round(value) for value in model.predict(X_test)]\n",
    "    accuracy = accuracy_score(y_test, predictions)\n",
    "    return accuracy\n",
    "\n",
    "\n",
    "def classification_report_result(model):\n",
    "    print(classification_report(y_valid, model.predict(X_valid)))"
   ]
  },
  {
   "cell_type": "markdown",
   "metadata": {},
   "source": [
    "#### E.5.1 Logistic Regression Classifier"
   ]
  },
  {
   "cell_type": "code",
   "execution_count": null,
   "metadata": {},
   "outputs": [],
   "source": [
    "# Training with oversampled data\n",
    "\n",
    "logreg = LogisticRegression().fit(X_train_smote, y_train_smote)\n",
    "\n",
    "classification_report_result(logreg)"
   ]
  },
  {
   "cell_type": "code",
   "execution_count": null,
   "metadata": {},
   "outputs": [],
   "source": [
    "logreg_valid = valid_accuracy_result(logreg)\n",
    "print(\"Validation Accuracy: %.2f%%\" % (logreg_valid * 100.0))"
   ]
  },
  {
   "cell_type": "code",
   "execution_count": null,
   "metadata": {},
   "outputs": [],
   "source": [
    "logreg_test = test_accuracy_result(logreg)\n",
    "print(\"Test Accuracy: %.2f%%\" % (logreg_test * 100.0))"
   ]
  },
  {
   "cell_type": "markdown",
   "metadata": {},
   "source": [
    "**Hyperparameter Tuning**"
   ]
  },
  {
   "cell_type": "code",
   "execution_count": null,
   "metadata": {},
   "outputs": [],
   "source": [
    "from sklearn.model_selection import GridSearchCV\n",
    "logreg_tunned = LogisticRegression()\n",
    "logreg_tunned_params = {\"penalty\": ['l2', 'elasticnet'],\n",
    "                        \"solver\":['newton-cg', 'lbfgs', 'liblinear', 'sag', 'saga'],\n",
    "                        \"max_iter\": [50,100,200],\n",
    "                        \"n_jobs\" : [-1],\n",
    "                        \"C\": [0.1,1,10]}\n",
    "\n",
    "logreg_tunned_model = GridSearchCV(logreg_tunned, logreg_tunned_params,\n",
    "                                   scoring='roc_auc', cv=3, n_jobs=-1, verbose=2).fit(X_train_smote,y_train_smote)\n",
    "print(logreg_tunned_model.best_params_)"
   ]
  },
  {
   "cell_type": "code",
   "execution_count": null,
   "metadata": {},
   "outputs": [],
   "source": [
    "logreg_tunned = LogisticRegression(C=0.1,\n",
    "                                   max_iter = 50,\n",
    "                                   n_jobs = -1,\n",
    "                                   penalty=\"l2\",\n",
    "                                   solver = \"newton-cg\").fit(X_train_smote,y_train_smote)"
   ]
  },
  {
   "cell_type": "code",
   "execution_count": null,
   "metadata": {},
   "outputs": [],
   "source": [
    "classification_report_result(logreg_tunned)"
   ]
  },
  {
   "cell_type": "code",
   "execution_count": null,
   "metadata": {},
   "outputs": [],
   "source": [
    "logreg_valid_tunned = valid_accuracy_result(logreg_tunned)\n",
    "print(\"Validation Accuracy: %.2f%%\" % (logreg_valid_tunned * 100.0))"
   ]
  },
  {
   "cell_type": "code",
   "execution_count": null,
   "metadata": {},
   "outputs": [],
   "source": [
    "logreg_test_tunned = test_accuracy_result(logreg_tunned)\n",
    "print(\"Test Accuracy: %.2f%%\" % (logreg_test_tunned * 100.0))"
   ]
  },
  {
   "cell_type": "markdown",
   "metadata": {},
   "source": [
    "#### E.5.2 Ensembled Classifiers"
   ]
  },
  {
   "cell_type": "markdown",
   "metadata": {},
   "source": [
    "##### E.5.2.1 Random Forest Classifier (Bagging)"
   ]
  },
  {
   "cell_type": "code",
   "execution_count": null,
   "metadata": {},
   "outputs": [],
   "source": [
    "from sklearn.ensemble import RandomForestClassifier\n",
    "\n",
    "rfc = RandomForestClassifier().fit(X_train_smote, y_train_smote)\n",
    "\n",
    "classification_report_result(rfc)"
   ]
  },
  {
   "cell_type": "code",
   "execution_count": null,
   "metadata": {},
   "outputs": [],
   "source": [
    "rfc_valid = valid_accuracy_result(rfc)\n",
    "print(\"Validation Accuracy: %.2f%%\" % (rfc_valid * 100.0))"
   ]
  },
  {
   "cell_type": "code",
   "execution_count": null,
   "metadata": {},
   "outputs": [],
   "source": [
    "rfc_test = test_accuracy_result(rfc)\n",
    "print(\"Test Accuracy: %.2f%%\" % (rfc_test * 100.0))"
   ]
  },
  {
   "cell_type": "markdown",
   "metadata": {},
   "source": [
    "**Hyperparameter Tuning**"
   ]
  },
  {
   "cell_type": "code",
   "execution_count": null,
   "metadata": {},
   "outputs": [],
   "source": [
    "from sklearn.model_selection import GridSearchCV\n",
    "rfc_tunned = RandomForestClassifier()\n",
    "rfc_tunned_params = {'max_depth': [2,10,20],\n",
    "                     'n_estimators': [100,200],\n",
    "                     'max_features': [4,10,30],\n",
    "                     'min_samples_leaf': [2,10]}\n",
    "\n",
    "rfc_tunned_model = GridSearchCV(rfc_tunned, rfc_tunned_params,\n",
    "                                scoring='roc_auc', cv=3, n_jobs=-1, verbose=2).fit(X_train_smote,y_train_smote)\n",
    "print(rfc_tunned_model.best_params_)"
   ]
  },
  {
   "cell_type": "code",
   "execution_count": null,
   "metadata": {},
   "outputs": [],
   "source": [
    "rfc_tunned = RandomForestClassifier(max_depth = 2,\n",
    "                                    max_features = 4,\n",
    "                                    min_samples_leaf=2,\n",
    "                                    n_estimators=100).fit(X_train_smote,y_train_smote)"
   ]
  },
  {
   "cell_type": "code",
   "execution_count": null,
   "metadata": {},
   "outputs": [],
   "source": [
    "classification_report_result(rfc_tunned)"
   ]
  },
  {
   "cell_type": "code",
   "execution_count": null,
   "metadata": {},
   "outputs": [],
   "source": [
    "rfc_valid_tunned = valid_accuracy_result(rfc_tunned)\n",
    "print(\"Validation Accuracy: %.2f%%\" % (rfc_valid_tunned * 100.0))"
   ]
  },
  {
   "cell_type": "code",
   "execution_count": null,
   "metadata": {},
   "outputs": [],
   "source": [
    "rfc_test_tunned = test_accuracy_result(rfc_tunned)\n",
    "print(\"Test Accuracy: %.2f%%\" % (rfc_test_tunned * 100.0))"
   ]
  },
  {
   "cell_type": "markdown",
   "metadata": {},
   "source": [
    "##### E.5.2.2 Gradient Boosting Classifiers"
   ]
  },
  {
   "cell_type": "markdown",
   "metadata": {},
   "source": [
    "###### E.5.2.2.1 XGBoost"
   ]
  },
  {
   "cell_type": "code",
   "execution_count": null,
   "metadata": {},
   "outputs": [],
   "source": [
    "from xgboost import XGBClassifier\n",
    "\n",
    "xgboost_model = XGBClassifier().fit(X_train_smote, y_train_smote)"
   ]
  },
  {
   "cell_type": "code",
   "execution_count": null,
   "metadata": {},
   "outputs": [],
   "source": [
    "classification_report_result(xgboost_model)"
   ]
  },
  {
   "cell_type": "code",
   "execution_count": null,
   "metadata": {},
   "outputs": [],
   "source": [
    "xgboost_model_valid = valid_accuracy_result(xgboost_model)\n",
    "print(\"Validation Accuracy: %.2f%%\" % (xgboost_model_valid * 100.0))"
   ]
  },
  {
   "cell_type": "code",
   "execution_count": null,
   "metadata": {},
   "outputs": [],
   "source": [
    "xgboost_model_test = test_accuracy_result(xgboost_model)\n",
    "print(\"Test Accuracy: %.2f%%\" % (xgboost_model_test * 100.0))"
   ]
  },
  {
   "cell_type": "markdown",
   "metadata": {},
   "source": [
    "**Hyperparameter Tuning**"
   ]
  },
  {
   "cell_type": "code",
   "execution_count": null,
   "metadata": {},
   "outputs": [],
   "source": [
    "from sklearn.model_selection import GridSearchCV\n",
    "xgb_tunned = XGBClassifier()\n",
    "xgb_tunned_params = {\"learning_rate\"    : [0.01, 0.10, 0.25 ] ,\n",
    "                     \"max_depth\"        : [ 3, 6, 10],\n",
    "                     \"min_child_weight\" : [ 1, 3, 7 ],\n",
    "                     \"gamma\"            : [ 0.0, 0.1 , 0.3],\n",
    "                     \"colsample_bytree\" : [ 0.3, 0.5 , 0.7 ],\n",
    "                     \"booster\"          : ['gbtree','gblinear','dart'],\n",
    "                     \"n-jobs\"           : [-1]}\n",
    "\n",
    "xgb_tunned_model = GridSearchCV(xgb_tunned, xgb_tunned_params,\n",
    "                                scoring='roc_auc', cv=3, n_jobs=-1, verbose=2).fit(X_train_smote,y_train_smote)\n",
    "print(xgb_tunned_model.best_params_)"
   ]
  },
  {
   "cell_type": "code",
   "execution_count": null,
   "metadata": {},
   "outputs": [],
   "source": [
    "xgb_tunned_new_params = {'booster' : ['gbtree'], 'colsample_bytree': [0.3], 'gamma': [0.0], 'learning_rate': [0.01], 'max_depth': [3], 'min_child_weight': [1], 'n-jobs': [-1]}\n",
    "\n",
    "xgb_tunned = XGBClassifier()\n",
    "xgb_tunned_new_model = GridSearchCV(xgb_tunned, xgb_tunned_new_params,\n",
    "                                scoring='roc_auc', cv=3, n_jobs=-1, verbose=2).fit(X_train_smote,y_train_smote)"
   ]
  },
  {
   "cell_type": "code",
   "execution_count": null,
   "metadata": {},
   "outputs": [],
   "source": [
    "classification_report_result(xgb_tunned_new_model)"
   ]
  },
  {
   "cell_type": "code",
   "execution_count": null,
   "metadata": {},
   "outputs": [],
   "source": [
    "xgboost_model_valid_tunned = valid_accuracy_result(xgb_tunned_new_model)\n",
    "print(\"Validation Accuracy: %.2f%%\" % (xgboost_model_valid_tunned * 100.0))"
   ]
  },
  {
   "cell_type": "code",
   "execution_count": null,
   "metadata": {},
   "outputs": [],
   "source": [
    "xgboost_model_test_tunned = test_accuracy_result(xgb_tunned_new_model)\n",
    "print(\"Test Accuracy: %.2f%%\" % (xgboost_model_test_tunned * 100.0))"
   ]
  },
  {
   "cell_type": "markdown",
   "metadata": {},
   "source": [
    "###### E.5.2.2.2 LightGBM\n"
   ]
  },
  {
   "cell_type": "code",
   "execution_count": null,
   "metadata": {},
   "outputs": [],
   "source": [
    "from lightgbm import LGBMClassifier\n",
    "\n",
    "lgbm_model = LGBMClassifier().fit(X_train_smote, y_train_smote)\n",
    "\n",
    "classification_report_result(lgbm_model)"
   ]
  },
  {
   "cell_type": "code",
   "execution_count": null,
   "metadata": {},
   "outputs": [],
   "source": [
    "lgbm_model_valid = valid_accuracy_result(lgbm_model)\n",
    "print(\"Validation Accuracy: %.2f%%\" % (lgbm_model_valid * 100.0))"
   ]
  },
  {
   "cell_type": "code",
   "execution_count": null,
   "metadata": {},
   "outputs": [],
   "source": [
    "lgbm_model_test = test_accuracy_result(lgbm_model)\n",
    "print(\"Test Accuracy: %.2f%%\" % (lgbm_model_test * 100.0))"
   ]
  },
  {
   "cell_type": "markdown",
   "metadata": {},
   "source": [
    "**Hyperparameter Tuning**"
   ]
  },
  {
   "cell_type": "code",
   "execution_count": null,
   "metadata": {},
   "outputs": [],
   "source": [
    "from sklearn.model_selection import GridSearchCV\n",
    "lgbm_tunned = LGBMClassifier()\n",
    "lgbm_tunned_params = {\"boosting_type\":['gbdt', 'dart', 'goss', 'rf'],\n",
    "                      \"n_estimators \":[100,200,500],\n",
    "                      \"learning_rate\":[0.01,0.1,0.5]}\n",
    "\n",
    "lgbm_tunned_model = GridSearchCV(lgbm_tunned, lgbm_tunned_params,\n",
    "                                 scoring='roc_auc', cv=3, n_jobs=-1, verbose=2).fit(X_train_smote,y_train_smote)\n",
    "\n",
    "print(lgbm_tunned_model.best_params_)"
   ]
  },
  {
   "cell_type": "code",
   "execution_count": null,
   "metadata": {},
   "outputs": [],
   "source": [
    "lgbm_tunned = LGBMClassifier(boosting_type=\"gbdt\",\n",
    "                             learning_rate=0.01,\n",
    "                             n_estimators=100).fit(X_train_smote,y_train_smote)"
   ]
  },
  {
   "cell_type": "code",
   "execution_count": null,
   "metadata": {},
   "outputs": [],
   "source": [
    "classification_report_result(lgbm_tunned)"
   ]
  },
  {
   "cell_type": "code",
   "execution_count": null,
   "metadata": {},
   "outputs": [],
   "source": [
    "lgbm_model_tunned_valid = valid_accuracy_result(lgbm_tunned)\n",
    "print(\"Validation Accuracy: %.2f%%\" % (lgbm_model_tunned_valid * 100.0))"
   ]
  },
  {
   "cell_type": "code",
   "execution_count": null,
   "metadata": {},
   "outputs": [],
   "source": [
    "lgbm_model_tunned_test = test_accuracy_result(lgbm_tunned)\n",
    "print(\"Test Accuracy: %.2f%%\" % (lgbm_model_tunned_test * 100.0))"
   ]
  },
  {
   "cell_type": "markdown",
   "metadata": {},
   "source": [
    "###### E.5.2.2.3 CatBoost"
   ]
  },
  {
   "cell_type": "code",
   "execution_count": null,
   "metadata": {},
   "outputs": [],
   "source": [
    "from catboost import CatBoostClassifier\n",
    "\n",
    "catboost_model = CatBoostClassifier().fit(\n",
    "    X_train_smote,\n",
    "    y_train_smote)"
   ]
  },
  {
   "cell_type": "code",
   "execution_count": null,
   "metadata": {},
   "outputs": [],
   "source": [
    "classification_report_result(catboost_model)"
   ]
  },
  {
   "cell_type": "code",
   "execution_count": null,
   "metadata": {},
   "outputs": [],
   "source": [
    "predictions = [value for value in catboost_model.predict(X_valid)]\n",
    "catboost_model_valid = accuracy_score(y_valid, predictions)\n",
    "print(\"Validation Accuracy: %.2f%%\" % (catboost_model_valid * 100.0))"
   ]
  },
  {
   "cell_type": "code",
   "execution_count": null,
   "metadata": {},
   "outputs": [],
   "source": [
    "predictions = [value for value in catboost_model.predict(X_test)]\n",
    "catboost_model_test = accuracy_score(y_test, predictions)\n",
    "print(\"Test Accuracy: %.2f%%\" % (catboost_model_test * 100.0))"
   ]
  },
  {
   "cell_type": "markdown",
   "metadata": {},
   "source": [
    "**Hyperparameter Tuning**"
   ]
  },
  {
   "cell_type": "code",
   "execution_count": null,
   "metadata": {},
   "outputs": [],
   "source": [
    "from sklearn.model_selection import GridSearchCV\n",
    "catboost_tunned = CatBoostClassifier()\n",
    "catboost_tunned_params = {'iterations':[10, 1000],\n",
    "                          'depth': [1, 8],\n",
    "                          'learning_rate': [0.01, 1.0, 'log-uniform']\n",
    "}\n",
    "\n",
    "catboost_tunned_model = GridSearchCV(catboost_tunned, catboost_tunned_params,\n",
    "                                     scoring='roc_auc', cv=3, n_jobs=-1, verbose=2).fit(X_train_smote,y_train_smote)\n",
    "\n",
    "print(catboost_tunned_model.best_params_)"
   ]
  },
  {
   "cell_type": "code",
   "execution_count": null,
   "metadata": {},
   "outputs": [],
   "source": [
    "catboost_tunned = CatBoostClassifier(depth= 1, iterations= 10, learning_rate= 0.01).fit(X_train_smote, y_train_smote)"
   ]
  },
  {
   "cell_type": "code",
   "execution_count": null,
   "metadata": {},
   "outputs": [],
   "source": [
    "classification_report_result(catboost_tunned)"
   ]
  },
  {
   "cell_type": "code",
   "execution_count": null,
   "metadata": {},
   "outputs": [],
   "source": [
    "predictions = [value for value in catboost_tunned.predict(X_valid)]\n",
    "catboost_tunned_valid = accuracy_score(y_valid, predictions)\n",
    "print(\"Validation Accuracy: %.2f%%\" % (catboost_tunned_valid * 100.0))"
   ]
  },
  {
   "cell_type": "code",
   "execution_count": null,
   "metadata": {},
   "outputs": [],
   "source": [
    "predictions = [value for value in catboost_tunned.predict(X_test)]\n",
    "catboost_tunned_test = accuracy_score(y_test, predictions)\n",
    "print(\"Test Accuracy: %.2f%%\" % (catboost_tunned_test * 100.0))"
   ]
  },
  {
   "cell_type": "markdown",
   "metadata": {},
   "source": [
    "### E.5.3 Neural Network Classifiers"
   ]
  },
  {
   "cell_type": "markdown",
   "metadata": {},
   "source": [
    "#### E.5.3.1 Multi-Layer Perceptron (MLP)"
   ]
  },
  {
   "cell_type": "code",
   "execution_count": null,
   "metadata": {},
   "outputs": [],
   "source": [
    "from sklearn.neural_network import MLPClassifier\n",
    "\n",
    "mlp = MLPClassifier().fit(X_train_smote, y_train_smote)\n",
    "\n",
    "classification_report_result(mlp)"
   ]
  },
  {
   "cell_type": "code",
   "execution_count": null,
   "metadata": {},
   "outputs": [],
   "source": [
    "mlp_valid = valid_accuracy_result(mlp)\n",
    "print(\"Validation Accuracy: %.2f%%\" % (mlp_valid * 100.0))"
   ]
  },
  {
   "cell_type": "code",
   "execution_count": null,
   "metadata": {},
   "outputs": [],
   "source": [
    "mlp_test = test_accuracy_result(mlp)\n",
    "print(\"Test Accuracy: %.2f%%\" % (mlp_test * 100.0))"
   ]
  },
  {
   "cell_type": "markdown",
   "metadata": {},
   "source": [
    "**Hyperparameter Tuning**"
   ]
  },
  {
   "cell_type": "code",
   "execution_count": null,
   "metadata": {},
   "outputs": [],
   "source": [
    "from sklearn.model_selection import GridSearchCV\n",
    "mlp_tunned = MLPClassifier()\n",
    "mlp_tunned_params = {\"activation\":['identity', 'logistic', 'tanh', 'relu']}\n",
    "\n",
    "mlp_tunned_model = GridSearchCV(mlp_tunned, mlp_tunned_params,\n",
    "                                scoring='roc_auc', cv=3, n_jobs=-1, verbose=2).fit(X_train_smote,y_train_smote)\n",
    "print(mlp_tunned_model.best_params_)"
   ]
  },
  {
   "cell_type": "code",
   "execution_count": null,
   "metadata": {},
   "outputs": [],
   "source": [
    "mlp_tunned = MLPClassifier(activation=\"identity\").fit(X_train_smote, y_train_smote)"
   ]
  },
  {
   "cell_type": "code",
   "execution_count": null,
   "metadata": {},
   "outputs": [],
   "source": [
    "classification_report_result(mlp_tunned)"
   ]
  },
  {
   "cell_type": "code",
   "execution_count": null,
   "metadata": {},
   "outputs": [],
   "source": [
    "mlp_tunned_valid = valid_accuracy_result(mlp_tunned)\n",
    "print(\"Validation Accuracy: %.2f%%\" % (mlp_tunned_valid * 100.0))"
   ]
  },
  {
   "cell_type": "code",
   "execution_count": null,
   "metadata": {},
   "outputs": [],
   "source": [
    "mlp_tunned_test = test_accuracy_result(mlp_tunned)\n",
    "print(\"Test Accuracy: %.2f%%\" % (mlp_tunned_test * 100.0))"
   ]
  },
  {
   "cell_type": "markdown",
   "metadata": {},
   "source": [
    "#### E.5.3.2 Neural Networks\n",
    "\n",
    "##### E.5.3.2.1 Creating a Callback Function"
   ]
  },
  {
   "cell_type": "code",
   "execution_count": null,
   "metadata": {},
   "outputs": [],
   "source": [
    "# Implement callback function to stop training when accuracy reaches accuracy_threshold\n",
    "class myCallback(tf.keras.callbacks.Callback):\n",
    "    def on_epoch_end(self, epoch, logs={}):\n",
    "        if logs.get(\"loss\") < 0.4:\n",
    "            print(\"\\n Loss is low so cancelling training!\")\n",
    "            self.model.stop_training = True"
   ]
  },
  {
   "cell_type": "code",
   "execution_count": null,
   "metadata": {},
   "outputs": [],
   "source": [
    "# Instantiate a callback object\n",
    "callbacks = myCallback()"
   ]
  },
  {
   "cell_type": "markdown",
   "metadata": {},
   "source": [
    "##### E.5.3.2.2 Dataset Preparation for Neural Networks Modeling"
   ]
  },
  {
   "cell_type": "code",
   "execution_count": null,
   "metadata": {},
   "outputs": [],
   "source": [
    "input_layer_size = df_after_smote.shape[1] - 1                     # Dimension of features\n",
    "hidden_layer_size = input_layer_size*2                             # of units in hidden layer\n",
    "output_layer_size = len(df_after_smote[\"CDRGLOB\"].value_counts())  # number of label"
   ]
  },
  {
   "cell_type": "code",
   "execution_count": null,
   "metadata": {},
   "outputs": [],
   "source": [
    "print(\"Number of input layer size: {}\".format(input_layer_size))\n",
    "print(\"Number of hidden layer size: {}\".format(hidden_layer_size))\n",
    "print(\"Number of output_layer_size: {}\".format(output_layer_size))"
   ]
  },
  {
   "cell_type": "markdown",
   "metadata": {},
   "source": [
    "#####E.5.3.2.3 Neural Networks Modeling"
   ]
  },
  {
   "cell_type": "code",
   "execution_count": null,
   "metadata": {},
   "outputs": [],
   "source": [
    "model = tf.keras.Sequential([\n",
    "    tf.keras.layers.Input(shape=(input_layer_size)),\n",
    "    tf.keras.layers.Dense(hidden_layer_size, activation = \"relu\"),\n",
    "    tf.keras.layers.Dropout(0.2),\n",
    "    tf.keras.layers.Dense(int(hidden_layer_size/2.5), activation = \"relu\"),\n",
    "    tf.keras.layers.Dropout(0.2),\n",
    "    tf.keras.layers.Dense(output_layer_size, activation = \"softmax\")\n",
    "])"
   ]
  },
  {
   "cell_type": "code",
   "execution_count": null,
   "metadata": {},
   "outputs": [],
   "source": [
    "model.summary()"
   ]
  },
  {
   "cell_type": "code",
   "execution_count": null,
   "metadata": {},
   "outputs": [],
   "source": [
    "from keras import backend as K\n",
    "\n",
    "def recall_m(y_true, y_pred):\n",
    "    true_positives = K.sum(K.round(K.clip(y_true * y_pred, 0, 1)))\n",
    "    possible_positives = K.sum(K.round(K.clip(y_true, 0, 1)))\n",
    "    recall = true_positives / (possible_positives + K.epsilon())\n",
    "    return recall\n",
    "\n",
    "def precision_m(y_true, y_pred):\n",
    "    true_positives = K.sum(K.round(K.clip(y_true * y_pred, 0, 1)))\n",
    "    predicted_positives = K.sum(K.round(K.clip(y_pred, 0, 1)))\n",
    "    precision = true_positives / (predicted_positives + K.epsilon())\n",
    "    return precision\n",
    "\n",
    "def f1_m(y_true, y_pred):\n",
    "    precision = precision_m(y_true, y_pred)\n",
    "    recall = recall_m(y_true, y_pred)\n",
    "    return 2*((precision*recall)/(precision+recall+K.epsilon()))"
   ]
  },
  {
   "cell_type": "code",
   "execution_count": null,
   "metadata": {},
   "outputs": [],
   "source": [
    "model.compile(tf.keras.optimizers.Adam(learning_rate = 1e-4),\n",
    "              loss = \"sparse_categorical_crossentropy\",\n",
    "              metrics = [f1_m]) # tfa.metrics.F1Score(num_classes = output_layer_size)"
   ]
  },
  {
   "cell_type": "code",
   "execution_count": null,
   "metadata": {
    "pycharm": {
     "is_executing": true
    }
   },
   "outputs": [],
   "source": [
    "model_history = model.fit(X_train_smote, y_train_smote,\n",
    "                          epochs = 100,\n",
    "                          verbose = 1,\n",
    "                          batch_size = 32,\n",
    "                          validation_data = (X_valid, y_valid))\n",
    "                          #callbacks = [callbacks])"
   ]
  },
  {
   "cell_type": "markdown",
   "metadata": {},
   "source": [
    "## F. Evaluation"
   ]
  },
  {
   "cell_type": "code",
   "execution_count": null,
   "metadata": {},
   "outputs": [],
   "source": [
    "# evaluate the model\n",
    "accuracy, f1_score = model.evaluate(X_test, y_test, verbose=0)"
   ]
  },
  {
   "cell_type": "code",
   "execution_count": null,
   "metadata": {},
   "outputs": [],
   "source": [
    "print(\"Test Accuracy of Neural Network Modeling: {:.2f}\".format(accuracy))"
   ]
  },
  {
   "cell_type": "code",
   "execution_count": null,
   "metadata": {},
   "outputs": [],
   "source": [
    "print(\"Test F-1 Score of Neural Network Modeling: {:.2f}\".format(f1_score))"
   ]
  },
  {
   "cell_type": "code",
   "execution_count": null,
   "metadata": {},
   "outputs": [],
   "source": [
    "plt.plot(model_history.history[\"loss\"])\n",
    "plt.plot(model_history.history[\"val_loss\"])\n",
    "plt.legend([\"loss\", \"validation loss\"], loc =\"upper right\")\n",
    "plt.show()"
   ]
  },
  {
   "cell_type": "code",
   "execution_count": null,
   "metadata": {},
   "outputs": [],
   "source": [
    "print(model.evaluate(X_train_smote, y_train_smote))"
   ]
  },
  {
   "cell_type": "code",
   "execution_count": null,
   "metadata": {},
   "outputs": [],
   "source": [
    "print(model.evaluate(X_valid, y_valid))"
   ]
  },
  {
   "cell_type": "code",
   "execution_count": null,
   "metadata": {},
   "outputs": [],
   "source": [
    "print(model.evaluate(X_test, y_test))"
   ]
  },
  {
   "cell_type": "markdown",
   "metadata": {},
   "source": [
    "![](Comparison%20of%20Validation%20Accuracy%20Result%20-%20Validation%20Tunned%20Accuracy%20Result.png)\n",
    "\n",
    "![](Comparison%20of%20Test%20Accuracy%20Result%20-%20Test%20Tunned%20Accuracy%20Result.png)"
   ]
  }
 ],
 "metadata": {
  "kernelspec": {
   "display_name": "Python 3",
   "language": "python",
   "name": "python3"
  },
  "language_info": {
   "codemirror_mode": {
    "name": "ipython",
    "version": 3
   },
   "file_extension": ".py",
   "mimetype": "text/x-python",
   "name": "python",
   "nbconvert_exporter": "python",
   "pygments_lexer": "ipython3",
   "version": "3.8.5"
  },
  "vscode": {
   "interpreter": {
    "hash": "2495b32cb5ee53b4d154158c75172eb0cee9954f9785268b3902b95c6ffc55b5"
   }
  }
 },
 "nbformat": 4,
 "nbformat_minor": 2
}
